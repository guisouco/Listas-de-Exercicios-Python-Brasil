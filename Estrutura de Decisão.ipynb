{
  "nbformat": 4,
  "nbformat_minor": 0,
  "metadata": {
    "colab": {
      "name": "Decisão Exercicios.ipynb",
      "provenance": [],
      "collapsed_sections": [],
      "authorship_tag": "ABX9TyMScYURl7HZsqmZOZcVz6x7",
      "include_colab_link": true
    },
    "kernelspec": {
      "name": "python3",
      "display_name": "Python 3"
    },
    "language_info": {
      "name": "python"
    }
  },
  "cells": [
    {
      "cell_type": "markdown",
      "metadata": {
        "id": "view-in-github",
        "colab_type": "text"
      },
      "source": [
        "<a href=\"https://colab.research.google.com/github/guisouco/Listas-de-Exercicios-Python-Brasil/blob/main/Estrutura%20de%20Decis%C3%A3o.ipynb\" target=\"_parent\"><img src=\"https://colab.research.google.com/assets/colab-badge.svg\" alt=\"Open In Colab\"/></a>"
      ]
    },
    {
      "cell_type": "markdown",
      "source": [
        "## Exercicios de [Estrutura de Decisão](https:/https://wiki.python.org.br/EstruturaDeDecisao/)"
      ],
      "metadata": {
        "id": "ycaFnZKenk8F"
      }
    },
    {
      "cell_type": "markdown",
      "source": [
        "1 - Faça um Programa que peça dois números e imprima o maior deles.\n"
      ],
      "metadata": {
        "id": "pQJeFRLTnw58"
      }
    },
    {
      "cell_type": "code",
      "source": [
        "n1 = int(input('Digite um número: '))\n",
        "n2 = int(input('Digite outro número: '))\n",
        "\n",
        "if n1 > n2:\n",
        "  print(f'O número {n1} é o maior entre os dois')\n",
        "elif n2 > n1:\n",
        "  print(f'O número {n2} é o maior entre os dois')\n",
        "else:\n",
        "  print(f'Os números são iguais')"
      ],
      "metadata": {
        "colab": {
          "base_uri": "https://localhost:8080/"
        },
        "id": "PS1QOF5VrDvs",
        "outputId": "3ecbb560-1f8a-4cf3-adfc-c46bd61acdf2"
      },
      "execution_count": null,
      "outputs": [
        {
          "output_type": "stream",
          "name": "stdout",
          "text": [
            "Digite um número: 50\n",
            "Digite outro número: 50\n",
            "Os números são iguais\n"
          ]
        }
      ]
    },
    {
      "cell_type": "markdown",
      "source": [
        "2 - Faça um Programa que peça um valor e mostre na tela se o valor é positivo ou negativo."
      ],
      "metadata": {
        "id": "G8NNAGqHr5Lf"
      }
    },
    {
      "cell_type": "code",
      "source": [
        "valor = int(input('Digite um valor positivo ou negativo: '))\n",
        "\n",
        "if valor >= 0:\n",
        "  print('Este valor é positivo')\n",
        "elif valor < 0:\n",
        "  print('Este valor é negativo')"
      ],
      "metadata": {
        "colab": {
          "base_uri": "https://localhost:8080/"
        },
        "id": "kJ9ocfMUr8Nj",
        "outputId": "890eb447-9729-448a-d32b-34825117647a"
      },
      "execution_count": null,
      "outputs": [
        {
          "output_type": "stream",
          "name": "stdout",
          "text": [
            "Digite um valor positivo ou negativo: -6\n",
            "Este valor é negativo\n"
          ]
        }
      ]
    },
    {
      "cell_type": "markdown",
      "source": [
        "3 - Faça um Programa que verifique se uma letra digitada é \"F\" ou \"M\". Conforme a letra escrever: F - Feminino, M - Masculino, Sexo Inválido.\n"
      ],
      "metadata": {
        "id": "5RSFPJG8su1L"
      }
    },
    {
      "cell_type": "code",
      "source": [
        "letra = input('Digite seu sexo F ou M: ').upper()\n",
        "\n",
        "\n",
        "if letra == 'M':\n",
        "  print('M - Masculino')\n",
        "elif letra == 'F':\n",
        "  print('F - Feminino')\n",
        "else:\n",
        "  print('Sexo inválido')"
      ],
      "metadata": {
        "colab": {
          "base_uri": "https://localhost:8080/"
        },
        "id": "bp-Xb8y4sy-6",
        "outputId": "477ed537-df26-4b31-848f-fac107ec0325"
      },
      "execution_count": null,
      "outputs": [
        {
          "output_type": "stream",
          "name": "stdout",
          "text": [
            "Digite seu sexo F ou M: f\n",
            "F - Feminino\n"
          ]
        }
      ]
    },
    {
      "cell_type": "markdown",
      "source": [
        "4 - Faça um Programa que verifique se uma letra digitada é vogal ou consoante.\n"
      ],
      "metadata": {
        "id": "ggD4-1Ekt_NN"
      }
    },
    {
      "cell_type": "code",
      "source": [
        "l = input('Digite qualquer letra: ').upper()\n",
        "\n",
        "vogais = ['A','E','I','O','U'] \n",
        "\n",
        "if l in vogais:\n",
        "  print('A letra é uma vogal')\n",
        "else:\n",
        "  print('A letra é uma consoate')\n"
      ],
      "metadata": {
        "colab": {
          "base_uri": "https://localhost:8080/"
        },
        "id": "vmlMeCVWuC6N",
        "outputId": "4765da16-a2eb-4b1e-8434-2fd8b4588a70"
      },
      "execution_count": null,
      "outputs": [
        {
          "output_type": "stream",
          "name": "stdout",
          "text": [
            "Digite qualquer letra: o\n",
            "A letra é uma vogal\n"
          ]
        }
      ]
    },
    {
      "cell_type": "markdown",
      "source": [
        "5 - Faça um programa para a leitura de duas notas parciais de um aluno. O programa deve calcular a média alcançada por aluno e apresentar:\n",
        "\n",
        "A mensagem \"Aprovado\", se a média alcançada for maior ou igual a sete;\n",
        "\n",
        "A mensagem \"Reprovado\", se a média for menor do que sete;\n",
        "\n",
        "A mensagem \"Aprovado com Distinção\", se a média for igual a dez."
      ],
      "metadata": {
        "id": "msxkp5eHxVyA"
      }
    },
    {
      "cell_type": "code",
      "source": [
        "nota1 = float(input('Digite uma nota: '))\n",
        "nota2 = float(input('Digite outra nota: '))\n",
        "\n",
        "media = (nota1 + nota2) / 2\n",
        "\n",
        "if media >= 7 and media < 10:\n",
        "  print('Aprovado')\n",
        "elif media < 7:\n",
        "  print('Reprovado')\n",
        "elif media == 10:\n",
        "  print('Aprovado com Distinção')"
      ],
      "metadata": {
        "colab": {
          "base_uri": "https://localhost:8080/"
        },
        "id": "r-40T-iNxaXM",
        "outputId": "0592c6f6-77cc-492d-8bfd-63ca73daed70"
      },
      "execution_count": null,
      "outputs": [
        {
          "output_type": "stream",
          "name": "stdout",
          "text": [
            "Digite uma nota: 5.5\n",
            "Digite outra nota: 5.2\n",
            "Reprovado\n"
          ]
        }
      ]
    },
    {
      "cell_type": "markdown",
      "source": [
        "6 - Faça um Programa que leia três números e mostre o maior deles."
      ],
      "metadata": {
        "id": "B3QYLS7Uzx-c"
      }
    },
    {
      "cell_type": "code",
      "source": [
        "nu1 = int(input('Digite um número: '))\n",
        "nu2 = int(input('Digite um segundo número: '))\n",
        "nu3 = int(input('Digite um terceiro número: '))\n",
        "\n",
        "if nu1 > nu2 and nu1 > nu3:\n",
        "  print(f'O numero {nu1} é  o maior entre eles')\n",
        "elif nu2 > nu1 and nu2 > nu3:\n",
        "  print(f'O numero {nu2} é o maior entre eles')\n",
        "elif nu3 > nu1 and nu3> nu2:\n",
        "  print(f'O numero {nu3} é o maior entre eles')\n",
        "else:\n",
        "  print('Os números são iguais')"
      ],
      "metadata": {
        "colab": {
          "base_uri": "https://localhost:8080/"
        },
        "id": "JgjB9JpYz3-k",
        "outputId": "2e82aa5b-6c82-478d-adb2-14b1165bc3bf"
      },
      "execution_count": null,
      "outputs": [
        {
          "output_type": "stream",
          "name": "stdout",
          "text": [
            "Digite um número: 6\n",
            "Digite um segundo número: 7\n",
            "Digite um terceiro número: 8\n",
            "O numero 8 é o maior entre eles\n"
          ]
        }
      ]
    },
    {
      "cell_type": "markdown",
      "source": [
        "7 - Faça um Programa que leia três números e mostre o maior e o menor deles."
      ],
      "metadata": {
        "id": "VV2Y_qDx3LmW"
      }
    },
    {
      "cell_type": "code",
      "source": [
        "a = int(input('Digite um numero: '))\n",
        "b = int(input('Digite um segundo numero: '))\n",
        "c = int(input('Digite um terceiro numero: '))\n",
        "\n",
        "## Encontrar o Menor\n",
        "\n",
        "menor = a\n",
        "\n",
        "if b < a and b < c:\n",
        "  menor = b\n",
        "if c < a and c < b:\n",
        "  menor = c\n",
        "\n",
        "## Encontrar o Maior\n",
        "\n",
        "maior = a \n",
        "\n",
        "if b > a and b > c:\n",
        "  maior = b\n",
        "if c > a and c > b:\n",
        "  maior = c\n",
        "\n",
        "print(f'O maior número é: {maior} e o menor é: {menor}')\n",
        "\n"
      ],
      "metadata": {
        "colab": {
          "base_uri": "https://localhost:8080/"
        },
        "id": "6-hfILFU3Qtn",
        "outputId": "efce1ffb-2926-49cd-bc76-ec126582ba9e"
      },
      "execution_count": null,
      "outputs": [
        {
          "output_type": "stream",
          "name": "stdout",
          "text": [
            "Digite um numero: 5\n",
            "Digite um segundo numero: 6\n",
            "Digite um terceiro numero: 2\n",
            "O maior número é: 6 e o menor é 2\n"
          ]
        }
      ]
    },
    {
      "cell_type": "markdown",
      "source": [
        "8 - Faça um programa que pergunte o preço de três produtos e informe qual produto você deve comprar, sabendo que a decisão é sempre pelo mais barato.\n"
      ],
      "metadata": {
        "id": "4wqH-yA9DbXK"
      }
    },
    {
      "cell_type": "code",
      "source": [
        "p1 = float(input('Produto 1 - Preço: R$ '))\n",
        "p2 = float(input('Produto 2 - Preço: R$ '))\n",
        "p3 = float(input('Produto 3 - Preço: R$ '))\n",
        "\n",
        "barato = p1\n",
        "\n",
        "if p2 < p1 and p2 < p3:\n",
        "  barato = p2\n",
        "if p3 < p2 and p3 < p1:\n",
        "  barato = p3\n",
        "\n",
        "print(f'O produto que você deve comprar é o produto que custa R$ {barato:.2f}')\n",
        "\n"
      ],
      "metadata": {
        "colab": {
          "base_uri": "https://localhost:8080/"
        },
        "id": "FM77Or2lDoBj",
        "outputId": "b56c8e89-b423-4bd0-81af-a91d9c56b792"
      },
      "execution_count": null,
      "outputs": [
        {
          "output_type": "stream",
          "name": "stdout",
          "text": [
            "Produto 1 - Preço: R$ 59\n",
            "Produto 2 - Preço: R$ 69\n",
            "Produto 3 - Preço: R$ 10\n",
            "O produto que você deve comprar é o produto que custa R$ 10.00\n"
          ]
        }
      ]
    },
    {
      "cell_type": "markdown",
      "source": [
        "9 - Faça um Programa que leia três números e mostre-os em ordem decrescente.\n"
      ],
      "metadata": {
        "id": "z7tmHgB5I85K"
      }
    },
    {
      "cell_type": "code",
      "source": [
        "lista = []\n",
        "for i in range(3):\n",
        "    elemento = int(input('Digite um numero: '))\n",
        "    lista.append(elemento)\n",
        "\n",
        "lista.sort(reverse = True)\n",
        "\n",
        "print(lista)\n",
        "\n"
      ],
      "metadata": {
        "colab": {
          "base_uri": "https://localhost:8080/"
        },
        "id": "5aHBr2xaJBDZ",
        "outputId": "7219ca4b-b429-4693-c743-6c75d852a769"
      },
      "execution_count": null,
      "outputs": [
        {
          "output_type": "stream",
          "name": "stdout",
          "text": [
            "Digite um numero: 6\n",
            "Digite um numero: 7\n",
            "Digite um numero: 9\n",
            "[9, 7, 6]\n"
          ]
        }
      ]
    },
    {
      "cell_type": "markdown",
      "source": [
        "10 - Faça um Programa que pergunte em que turno você estuda. Peça para digitar M-matutino ou V-Vespertino ou N- Noturno. Imprima a mensagem \"Bom Dia!\", \"Boa Tarde!\" ou \"Boa Noite!\" ou \"Valor Inválido!\", conforme o caso.\n"
      ],
      "metadata": {
        "id": "VlYaya0DNE03"
      }
    },
    {
      "cell_type": "code",
      "source": [
        "horario = input('''Qual horário você estuda, digite:\n",
        " 'M' para Matutino\n",
        " 'V' para Vespertino\n",
        " 'N' para Noturno\n",
        " ''').upper()\n",
        "\n",
        "if horario == 'M':\n",
        "  print('Bom Dia!')\n",
        "elif horario == 'V':\n",
        "  print('Boa Tarde!')\n",
        "elif horario == 'N':\n",
        "  print('Boa Noite!')\n",
        "else:\n",
        "  print('Letra inválida')"
      ],
      "metadata": {
        "colab": {
          "base_uri": "https://localhost:8080/"
        },
        "id": "TyfcqNqaNHUE",
        "outputId": "3a0632cd-6d64-44a7-9b60-04181770641b"
      },
      "execution_count": null,
      "outputs": [
        {
          "output_type": "stream",
          "name": "stdout",
          "text": [
            "Qual horário você estuda, digite:\n",
            " 'M' para Matutino\n",
            " 'V' para Vespertino\n",
            " 'N' para Noturno\n",
            " N\n",
            "Boa Noite!\n"
          ]
        }
      ]
    },
    {
      "cell_type": "markdown",
      "source": [
        "11 - As Organizações Tabajara resolveram dar um aumento de salário aos seus colaboradores e lhe contraram para desenvolver o programa que calculará os reajustes.\n",
        "\n",
        "Faça um programa que recebe o salário de um colaborador e o reajuste segundo o seguinte critério, baseado no salário atual:\n",
        "\n",
        "salários até R$ 280,00 (incluindo) : aumento de 20%\n",
        "\n",
        "salários entre R 280,00 e R$ 700,00 : aumento de 15%\n",
        "\n",
        "salários entre R 700,00 e R$ 1500,00 : aumento de 10%\n",
        "\n",
        "salários de R$ 1500,00 em diante : aumento de 5% Após o aumento ser realizado, informe na tela:\n",
        "\n",
        "o salário antes do reajuste;\n",
        "\n",
        "o percentual de aumento aplicado;\n",
        "\n",
        "o valor do aumento;\n",
        "\n",
        "o novo salário, após o aumento."
      ],
      "metadata": {
        "id": "BphfGs-g0NLD"
      }
    },
    {
      "cell_type": "code",
      "source": [
        "salario_atual = float(input('Salário atual do colaborador: R$ '))\n",
        "\n",
        "if salario_atual <= 280:\n",
        "  reajuste = salario_atual * 0.20\n",
        "  salario_reajuste = salario_atual + reajuste\n",
        "  porcentagem = '20%'\n",
        "elif salario_atual > 280 and salario_atual <= 700:\n",
        "  reajuste = salario_atual * 0.15\n",
        "  salario_reajuste = salario_atual + reajuste\n",
        "  porcentagem = '15%'\n",
        "elif salario_atual > 700 and salario_atual <= 1500:\n",
        "  reajuste = salario_atual * 0.10\n",
        "  salario_reajuste = salario_atual + reajuste\n",
        "  porcentagem = '10%'\n",
        "elif salario_atual > 1500:\n",
        "  reajuste = salario_atual * 0.05\n",
        "  salario_reajuste = salario_atual + reajuste\n",
        "  porcentagem = '5%'\n",
        "\n",
        "print(f'''\n",
        "      O salário antes do reajuste: R$ {salario_atual:.2f}\n",
        "      O porcentual de aumento aplicado: {porcentagem}\n",
        "      O valor do aumento: R$ {reajuste:.2f}\n",
        "      o novo salário, após o aumento: R$ {salario_reajuste:.2f} ''')"
      ],
      "metadata": {
        "colab": {
          "base_uri": "https://localhost:8080/"
        },
        "id": "C5OPxvDf0dpU",
        "outputId": "59e2baf9-ca3e-460e-c3f0-7c961e75c33e"
      },
      "execution_count": null,
      "outputs": [
        {
          "output_type": "stream",
          "name": "stdout",
          "text": [
            "Salário atual do colaborador: R$ 2356.76\n",
            "\n",
            "      O salário antes do reajuste: R$ 2356.76\n",
            "      O porcentual de aumento aplicado: 5%\n",
            "      O valor do aumento: R$ 117.84\n",
            "      o novo salário, após o aumento: R$ 2474.60 \n"
          ]
        }
      ]
    },
    {
      "cell_type": "markdown",
      "source": [
        "12 - Faça um programa para o cálculo de uma folha de pagamento, sabendo que os descontos são do Imposto de Renda, que depende do salário bruto (conforme tabela abaixo) e 3% para o Sindicato e que o FGTS corresponde a 11% do Salário Bruto, mas não é descontado (é a empresa que deposita). O Salário Líquido corresponde ao Salário Bruto menos os descontos. O programa deverá pedir ao usuário o valor da sua hora e a quantidade de horas trabalhadas no mês.\n",
        "\n",
        "Desconto do IR:\n",
        "\n",
        "Salário Bruto até 900 (inclusive) - isento\n",
        "\n",
        "Salário Bruto até 1500 (inclusive) - desconto de 5%\n",
        "\n",
        "Salário Bruto até 2500 (inclusive) - desconto de 10%\n",
        "\n",
        "Salário Bruto acima de 2500 - desconto de 20% Imprima na tela as informações, dispostas conforme o exemplo abaixo. No exemplo o valor da hora é 5 e a quantidade de hora é 220."
      ],
      "metadata": {
        "id": "S5SNnubD6OUj"
      }
    },
    {
      "cell_type": "code",
      "source": [
        "valor_hora = float(input('Valor por hora trabalhada: '))\n",
        "horas_trabalhadas = int(input('Horas trabalhadas ao mês: '))\n",
        "\n",
        "salario_bruto = valor_hora * horas_trabalhadas\n",
        "sindicato = salario_bruto * 0.03\n",
        "fgts = salario_bruto * 0.11\n",
        "\n",
        "# Desconto IR \n",
        "\n",
        "if salario_bruto <= 1500:\n",
        "  ir = salario_bruto * 0.05\n",
        "elif salario_bruto <= 2500:\n",
        "  ir = salario_bruto * 0.10\n",
        "elif salario_bruto > 2500:\n",
        "  ir = salario_bruto * 0.20\n",
        "\n",
        "total = ir + sindicato\n",
        "liquido = salario_bruto - ir - sindicato\n",
        "\n",
        "print(f'''\n",
        "        Salário Bruto                   : R$ {salario_bruto:.2f}\n",
        "        (-) IR                          : R$ {ir:.2f}  \n",
        "        (-) Sindicato                   : R$ {sindicato:.2f}\n",
        "        FGTS (11%)                      : R$ {fgts:.2f}\n",
        "        Total de descontos              : R$ {total:.2f}\n",
        "        Salário Liquido                 : R$ {liquido:.2f}\n",
        "        \n",
        "        ''')"
      ],
      "metadata": {
        "colab": {
          "base_uri": "https://localhost:8080/"
        },
        "id": "WVb_zkKj6dT4",
        "outputId": "e288cf23-4f26-4eaf-cb65-864814e46902"
      },
      "execution_count": null,
      "outputs": [
        {
          "output_type": "stream",
          "name": "stdout",
          "text": [
            "Valor por hora trabalhada: 5\n",
            "Horas trabalhadas ao mês: 220\n",
            "\n",
            "        Salário Bruto                   : R$ 1100.00\n",
            "        (-) IR                          : R$ 55.00  \n",
            "        (-) Sindicato                   : R$ 33.00\n",
            "        FGTS (11%)                      : R$ 121.00\n",
            "        Total de descontos              : R$ 88.00\n",
            "        Salário Liquido                 : R$ 1012.00\n",
            "        \n",
            "        \n"
          ]
        }
      ]
    },
    {
      "cell_type": "markdown",
      "source": [
        "13 - Faça um Programa que leia um número e exiba o dia correspondente da semana. (1-Domingo, 2- Segunda, etc.), se digitar outro valor deve aparecer valor inválido."
      ],
      "metadata": {
        "id": "hhyZ685KHUgo"
      }
    },
    {
      "cell_type": "code",
      "source": [
        "numero = int(input('Digite um número: '))\n",
        "\n",
        "if numero == 1:\n",
        "  print(f'O dia correspondente a este número é: Domingo')\n",
        "elif numero == 2:\n",
        "  print(f'O dia correspondente a este número é: Segunda-feira')\n",
        "elif numero == 3:\n",
        "  print(f'O dia correspondente a este número é: Terça-feira')\n",
        "elif numero == 4:\n",
        "  print(f'O dia correspondente a este número é: Quarta-feira')\n",
        "elif numero == 5:\n",
        "  print(f'O dia correspondente a este número é: Quinta-feira')\n",
        "elif numero == 6:\n",
        "  print(f'O dia correspondente a este número é: Sexta-feira')\n",
        "elif numero == 7:\n",
        "  print(f'O dia correspondente a este número é: Sábado')\n",
        "else:\n",
        "  print('Numero inválido')"
      ],
      "metadata": {
        "colab": {
          "base_uri": "https://localhost:8080/"
        },
        "id": "TG6VfWnmHaNY",
        "outputId": "54808df5-9a97-4ec2-eabe-b49b65c85b03"
      },
      "execution_count": null,
      "outputs": [
        {
          "output_type": "stream",
          "name": "stdout",
          "text": [
            "Digite um número: 7\n",
            "O dia correspondente a este número é: Sábado\n"
          ]
        }
      ]
    },
    {
      "cell_type": "markdown",
      "source": [
        "14 - Faça um programa que lê as duas notas parciais obtidas por um aluno numa disciplina ao longo de um semestre, e calcule a sua média. A atribuição de conceitos obedece à tabela abaixo:\n",
        "\n",
        "```\n",
        "  Média de Aproveitamento  Conceito\n",
        "  Entre 9.0 e 10.0        A\n",
        "  Entre 7.5 e 9.0         B\n",
        "  Entre 6.0 e 7.5         C\n",
        "  Entre 4.0 e 6.0         D\n",
        "  Entre 4.0 e zero        E\n",
        "```\n",
        "O algoritmo deve mostrar na tela as notas, a média, o conceito correspondente e a mensagem “APROVADO” se o conceito for A, B ou C ou “REPROVADO” se o conceito for D ou E.\n"
      ],
      "metadata": {
        "id": "CFZ5J3MAJzUl"
      }
    },
    {
      "cell_type": "code",
      "source": [
        "nota_1 = float(input('Digite a primeira nota: '))\n",
        "nota_2 = float(input('Digite a segunda nota: '))\n",
        "\n",
        "media = (nota_1 + nota_2) / 2\n",
        "\n",
        "if media >= 9:\n",
        "  conceito = 'A'\n",
        "  mensagem = 'APROVADO'\n",
        "elif media >= 7.5 and media < 9:\n",
        "  conceito = 'B'\n",
        "  mensagem = 'APROVADO'\n",
        "elif media >= 6 and media < 7.5:\n",
        "  conceito = 'C'\n",
        "  mensagem = 'APROVADO'\n",
        "elif media >= 4 and media < 6:\n",
        "  conceito = 'D'\n",
        "  mensagem = 'REPROVADO'\n",
        "elif media < 4:\n",
        "  conceito = 'E'\n",
        "  mensagem = 'REPROVADO'\n",
        "\n",
        "\n",
        "\n",
        "print(f'''\n",
        "Nota: {nota_1}\n",
        "Nota: {nota_2}\n",
        "Media: {media} \n",
        "Conceito: {conceito}\n",
        "Situação: {mensagem}\n",
        "''')"
      ],
      "metadata": {
        "colab": {
          "base_uri": "https://localhost:8080/"
        },
        "id": "jdS9RKW9MYWl",
        "outputId": "eff54dd3-1152-4f09-dd90-1e371138a0d9"
      },
      "execution_count": null,
      "outputs": [
        {
          "output_type": "stream",
          "name": "stdout",
          "text": [
            "Digite a primeira nota: 5\n",
            "Digite a segunda nota: 10\n",
            "\n",
            "Nota: 5.0\n",
            "Nota: 10.0\n",
            "Media: 7.5 \n",
            "Conceito: B\n",
            "Situação: APROVADO\n",
            "\n"
          ]
        }
      ]
    },
    {
      "cell_type": "markdown",
      "source": [
        "15 - Faça um Programa que peça os 3 lados de um triângulo. O programa deverá informar se os valores podem ser um triângulo. Indique, caso os lados formem um triângulo, se o mesmo é: equilátero, isósceles ou escaleno.\n",
        "Dicas:\n",
        "\n",
        "Três lados formam um triângulo quando a soma de quaisquer dois lados for maior que o terceiro;\n",
        "\n",
        "Triângulo Equilátero: três lados iguais;\n",
        "\n",
        "Triângulo Isósceles: quaisquer dois lados iguais;\n",
        "\n",
        "Triângulo Escaleno: três lados diferentes;"
      ],
      "metadata": {
        "id": "9h0cOJMvTO32"
      }
    },
    {
      "cell_type": "code",
      "source": [
        "la1 = int(input('Lado 1 do Triangulo: '))\n",
        "la2 = int(input('Lado 2 do Triangulo: '))\n",
        "la3 = int(input('Lado 3 do Triangulo: '))\n",
        "\n",
        "\n",
        "# Calculo Triangulo\n",
        "\n",
        "if (la1 + la2 < la3) or (la1 + la3 < la2) or (la2 + la3 < la1):\n",
        "  print('Não é um triangulo')\n",
        "elif (la1 == la2) and (la2 == la3):\n",
        "  print('Equilátero')\n",
        "elif (la1 == la2) or (la2 == la3) or (la3 == la1):\n",
        "  print('Isósceles')\n",
        "else:\n",
        "  print('Escaleno')\n"
      ],
      "metadata": {
        "colab": {
          "base_uri": "https://localhost:8080/"
        },
        "id": "U3uNvNv9TX5I",
        "outputId": "cb75beea-b96d-407f-fecc-6b488f66945c"
      },
      "execution_count": null,
      "outputs": [
        {
          "output_type": "stream",
          "name": "stdout",
          "text": [
            "Lado 1 do Triangulo: 5\n",
            "Lado 2 do Triangulo: 5\n",
            "Lado 3 do Triangulo: 6\n",
            "Isósceles\n"
          ]
        }
      ]
    },
    {
      "cell_type": "markdown",
      "source": [
        "16 - Faça um programa que calcule as raízes de uma equação do segundo grau, na forma ax2 + bx + c. O programa deverá pedir os valores de a, b e c e fazer as consistências, informando ao usuário nas seguintes situações:\n",
        "\n",
        "Se o usuário informar o valor de A igual a zero, a equação não é do segundo grau e o programa não deve fazer pedir os demais valores, sendo encerrado;\n",
        "\n",
        "Se o delta calculado for negativo, a equação não possui raizes reais. Informe ao usuário e encerre o programa;\n",
        "\n",
        "Se o delta calculado for igual a zero a equação possui apenas uma raiz real; informe-a ao usuário;\n",
        "\n",
        "Se o delta for positivo, a equação possui duas raiz reais; informe-as ao usuário;\n"
      ],
      "metadata": {
        "id": "w8F2tYCAYEVj"
      }
    },
    {
      "cell_type": "code",
      "source": [
        "valor_a = int(input('Coeficiente a: '))\n",
        "\n",
        "if valor_a == 0:\n",
        "  print('Não é uma equação de segundo grau')\n",
        "else:\n",
        "  valor_b = int(input('Coeficiente b: '))\n",
        "  valor_c = int(input('Coeficiente c: '))\n",
        "\n",
        "delta = (valor_b)**2 - (4*valor_a*valor_c)\n",
        "\n",
        "if delta < 0:\n",
        "  print('Equação não possui raizes')\n",
        "elif delta == 0:\n",
        "  raiz = -valor_b / (2*valor_a)\n",
        "  print(f'Delta=0 , raiz = {raiz}')\n",
        "else:\n",
        "  raiz1 = ((-valor_b + delta**0.5) / 2*valor_a)\n",
        "  raiz2 = ((-valor_b - delta**0.5) / 2*valor_a)\n",
        "  print(f'A equação possui duas raizes que são: \"{raiz1}\" e \"{raiz2}\"')"
      ],
      "metadata": {
        "colab": {
          "base_uri": "https://localhost:8080/"
        },
        "id": "aj3Rd8cEYcfr",
        "outputId": "2eccbdc5-90db-4e09-9028-13da4f1b2db4"
      },
      "execution_count": null,
      "outputs": [
        {
          "output_type": "stream",
          "name": "stdout",
          "text": [
            "Coeficiente a: 1\n",
            "Coeficiente b: -10\n",
            "Coeficiente c: 24\n",
            "A equação possui duas raizes que são: \"6.0\" e \"4.0\"\n"
          ]
        }
      ]
    },
    {
      "cell_type": "markdown",
      "source": [
        "17 - Faça um Programa que peça um número correspondente a um determinado ano e em seguida informe se este ano é ou não bissexto."
      ],
      "metadata": {
        "id": "bzfdUXQ-9U13"
      }
    },
    {
      "cell_type": "code",
      "source": [
        "ano = int(input('Ano: '))\n",
        "if (ano % 4==0 and ano % 100!=0) or (ano % 400 == 0):\n",
        "    print('Bissexto')\n",
        "else:\n",
        "    print('Não é bissexto')\n"
      ],
      "metadata": {
        "colab": {
          "base_uri": "https://localhost:8080/"
        },
        "id": "1yHz4NzO9Y73",
        "outputId": "d92351fb-64cc-4c97-e367-8f273ed53d60"
      },
      "execution_count": null,
      "outputs": [
        {
          "output_type": "stream",
          "name": "stdout",
          "text": [
            "Ano: 2020\n",
            "Bissexto\n"
          ]
        }
      ]
    },
    {
      "cell_type": "markdown",
      "source": [
        "18 - Faça um Programa que peça uma data no formato dd/mm/aaaa e determine se a mesma é uma data válida.\n",
        "\n",
        "\n",
        "---\n",
        "\n"
      ],
      "metadata": {
        "id": "EFHyNSO6-GkI"
      }
    },
    {
      "cell_type": "code",
      "source": [
        "dia = int(input('Dia: '))\n",
        "mes = int(input('Mês: '))\n",
        "ano = int(input('Ano: '))\n",
        "\n",
        "valida = False\n",
        "    \n",
        "# Meses com 31 dias\n",
        "if( mes==1 or mes==3 or mes==5 or mes==7 or mes==8 or mes==10 or mes==12):\n",
        "  if(dia<=31):\n",
        "    valida = True\n",
        "    # Meses com 30 dias\n",
        "elif( mes==4 or mes==6 or mes==9 or mes==11):\n",
        "  if(dia<=30):\n",
        "    valida = True\n",
        "  elif mes==2:\n",
        "      valida = True\n",
        "\n",
        "# Testa se é bissexto\n",
        "if (ano%4==0 and ano%100!=0) or (ano%400==0):\n",
        "  if(dia<=29):\n",
        "    valida = True\n",
        "  elif(dia<=28):\n",
        "      valida = True\n",
        "\n",
        "if(valida):\n",
        "  print('Data válida')\n",
        "else:\n",
        "  print('Inválida')"
      ],
      "metadata": {
        "colab": {
          "base_uri": "https://localhost:8080/"
        },
        "id": "zDw4nOT4-K-a",
        "outputId": "1dce4e74-42e5-4f0e-b27c-f80962a774bb"
      },
      "execution_count": null,
      "outputs": [
        {
          "output_type": "stream",
          "name": "stdout",
          "text": [
            "Dia: 23\n",
            "Mês: 7\n",
            "Ano: 2002\n",
            "Data válida\n"
          ]
        }
      ]
    },
    {
      "cell_type": "markdown",
      "source": [
        "19 - Faça um Programa que leia um número inteiro menor que 1000 e imprima a quantidade de centenas, dezenas e unidades do mesmo.\n",
        "\n",
        "Observando os termos no plural a colocação do \"e\", da vírgula entre outros. \n",
        "\n",
        "Exemplo:\n",
        "\n",
        "326 = 3 centenas, 2 dezenas e 6 unidades\n",
        "\n",
        "12 = 1 dezena e 2 unidades\n",
        "\n",
        "Testar com: 326, 300, 100, 320, 310,305, 301, 101, \n",
        "311, 111, 25, 20, 10, 21, 11, 1, 7 e 16"
      ],
      "metadata": {
        "id": "WjhbWUaIIg6I"
      }
    },
    {
      "cell_type": "code",
      "source": [
        "n_inteiro = int(input('Digite um numero menor que 1000: '))\n",
        "\n",
        "if n_inteiro < 1000:\n",
        "  unidades = n_inteiro % 10\n",
        "  n_inteiro = (n_inteiro - unidades) // 10 \n",
        "  dezenas = n_inteiro // 10\n",
        "  n_inteiro = (n_inteiro - dezenas) // 10\n",
        "  centenas = n_inteiro\n",
        "else: \n",
        "  print('Erro digite um numero menor que 1000')\n",
        "\n",
        "print(f'{centenas} centenas, {dezenas} dezenas e {unidades} unidades')"
      ],
      "metadata": {
        "colab": {
          "base_uri": "https://localhost:8080/"
        },
        "id": "acCHsZgIIq8c",
        "outputId": "6660c8fd-fffd-48d8-d5aa-1f8629ba722b"
      },
      "execution_count": null,
      "outputs": [
        {
          "output_type": "stream",
          "name": "stdout",
          "text": [
            "Digite um numero menor que 1000: 326\n",
            "2 centenas, 3 dezenas e 6 unidades\n"
          ]
        }
      ]
    },
    {
      "cell_type": "markdown",
      "source": [
        "20 - Faça um Programa para leitura de três notas parciais de um aluno. O programa deve calcular a média alcançada por aluno e apresentar:\n",
        "\n",
        "A mensagem \"Aprovado\", se a média for maior ou igual a 7, com a respectiva média alcançada;\n",
        "\n",
        "A mensagem \"Reprovado\", se a média for menor do que 7, com a respectiva média alcançada;\n",
        "\n",
        "A mensagem \"Aprovado com Distinção\", se a média for igual a 10."
      ],
      "metadata": {
        "id": "KYQghjKtXgZK"
      }
    },
    {
      "cell_type": "code",
      "source": [
        "no1 = float(input('Nota: '))\n",
        "no2 = float(input('Nota: '))\n",
        "no3 = float(input('Nota: '))\n",
        "\n",
        "media = (no1 + no2 + no3) / 3\n",
        "\n",
        "if media >= 7 and media < 10:\n",
        "  print('Aprovado')\n",
        "elif media < 7:\n",
        "  print('Reprovado')\n",
        "elif media == 10:\n",
        "  print('Aprovado com Distinção')"
      ],
      "metadata": {
        "colab": {
          "base_uri": "https://localhost:8080/"
        },
        "id": "bLd_lmBzXrjJ",
        "outputId": "41bf2355-7655-4be0-b903-5703e2e6688c"
      },
      "execution_count": null,
      "outputs": [
        {
          "output_type": "stream",
          "name": "stdout",
          "text": [
            "Nota: 10\n",
            "Nota: 10\n",
            "Nota: 10\n",
            "Aprovado com Distinção\n"
          ]
        }
      ]
    },
    {
      "cell_type": "markdown",
      "source": [
        "21 - Faça um Programa para um caixa eletrônico. O programa deverá perguntar ao usuário a valor do saque e depois informar quantas notas de cada valor serão fornecidas. As notas disponíveis serão as de 1, 5, 10, 50 e 100 reais. O valor mínimo é de 10 reais e o máximo de 600 reais. O programa não deve se preocupar com a quantidade de notas existentes na máquina.\n",
        "\n",
        "Exemplo 1: Para sacar a quantia de 256 reais, o programa fornece duas notas de 100, uma nota de 50, uma nota de 5 e uma nota de 1;\n",
        "\n",
        "Exemplo 2: Para sacar a quantia de 399 reais, o programa fornece três notas de 100, uma nota de 50, quatro notas de 10, uma nota de 5 e quatro notas de 1."
      ],
      "metadata": {
        "id": "8NY86-NOYqmx"
      }
    },
    {
      "cell_type": "code",
      "source": [
        "valor_saque = int(input('Valor do saque: '))\n",
        "\n",
        "notas_cem = valor_saque // 100\n",
        "valor_saque = valor_saque % 100\n",
        "\n",
        "notas_cinq = valor_saque // 50\n",
        "valor_saque = valor_saque % 50\n",
        "\n",
        "notas_dez = valor_saque // 10\n",
        "valor_saque = valor_saque % 10\n",
        "\n",
        "notas_cinc = valor_saque // 5\n",
        "valor_saque = valor_saque % 5\n",
        "\n",
        "notas_um = valor_saque\n",
        "\n",
        "print(f'Notas R$100,00 = {notas_cem}')\n",
        "print(f'Notas R$ 50,00 = {notas_cinq}')\n",
        "print(f'Notas R$ 10,00 = {notas_dez}')\n",
        "print(f'Notas R$  5,00 = {notas_cinc}')\n",
        "print(f'Notas R$  1,00 = {notas_um}')"
      ],
      "metadata": {
        "colab": {
          "base_uri": "https://localhost:8080/"
        },
        "id": "yjihrpZnZLEW",
        "outputId": "46236a2e-3bed-4683-c637-162ef549d1d8"
      },
      "execution_count": null,
      "outputs": [
        {
          "output_type": "stream",
          "name": "stdout",
          "text": [
            "Valor do saque: 399\n",
            "Notas R$100,00 = 3\n",
            "Notas R$ 50,00 = 1\n",
            "Notas R$ 10,00 = 4\n",
            "Notas R$  5,00 = 1\n",
            "Notas R$  1,00 = 4\n"
          ]
        }
      ]
    },
    {
      "cell_type": "markdown",
      "source": [
        "22 - Faça um Programa que peça um número inteiro e determine se ele é par ou impar. Dica: utilize o operador módulo (resto da divisão)."
      ],
      "metadata": {
        "id": "o2U9x45SiXB4"
      }
    },
    {
      "cell_type": "code",
      "source": [
        "na = int(input('Digite um numero: '))\n",
        "\n",
        "if na % 2==0:\n",
        "  print('Par')\n",
        "elif na % 2!=0:\n",
        "  print('Impar')"
      ],
      "metadata": {
        "colab": {
          "base_uri": "https://localhost:8080/"
        },
        "id": "uIYaKsu2ist2",
        "outputId": "3b2c8d9c-f88e-4a56-8873-e873ebf45dca"
      },
      "execution_count": null,
      "outputs": [
        {
          "output_type": "stream",
          "name": "stdout",
          "text": [
            "Digite um numero: 666\n",
            "Par\n"
          ]
        }
      ]
    },
    {
      "cell_type": "markdown",
      "source": [
        "23 - Faça um Programa que peça um número e informe se o número é inteiro ou decimal. Dica: utilize uma função de arredondamento."
      ],
      "metadata": {
        "id": "HvygKAOjkVXr"
      }
    },
    {
      "cell_type": "code",
      "source": [
        "numb = float(input('Numero original: '))\n",
        "\n",
        "if numb == round(numb):\n",
        "  print(\"Inteiro\")\n",
        "else:\n",
        "  print(\"Decimal\")"
      ],
      "metadata": {
        "colab": {
          "base_uri": "https://localhost:8080/"
        },
        "id": "DXFUXRA5kZuX",
        "outputId": "d56f9384-6302-4666-d681-fe9d46a5e948"
      },
      "execution_count": null,
      "outputs": [
        {
          "output_type": "stream",
          "name": "stdout",
          "text": [
            "Numero original: 76.86\n",
            "Decimal\n"
          ]
        }
      ]
    },
    {
      "cell_type": "markdown",
      "source": [
        "24 - Faça um Programa que leia 2 números e em seguida pergunte ao usuário qual operação ele deseja realizar. O resultado da operação deve ser acompanhado de uma frase que diga se o número é:\n",
        "\n",
        "par ou ímpar;\n",
        "\n",
        "positivo ou negativo;\n",
        "\n",
        "inteiro ou decimal."
      ],
      "metadata": {
        "id": "kAI-cM1xpSFk"
      }
    },
    {
      "cell_type": "code",
      "source": [
        "numb1 = int(input('Numero: '))\n",
        "numb2 = int(input('Numero 2: '))\n",
        "operacao = input('''Qual operação deseja realizar? \n",
        "Adição (+) Multiplicação (*) Subtração (-) Divisão (/) : \n",
        "''')\n",
        "\n",
        "# Descobrir Operação Escolhida\n",
        "if operacao == '+':\n",
        "  resultado = numb1 + numb2\n",
        "elif operacao == '-':\n",
        "  resultado = numb1 - numb2\n",
        "elif operacao == '*':\n",
        "  resultado = numb1 * numb2\n",
        "elif operacao == '/':\n",
        "  resultado = numb1 / numb2\n",
        "else:\n",
        "  print('Operacao Inválida')\n",
        "\n",
        "# Descobrir Par ou Impar\n",
        "\n",
        "if resultado % 2 ==0:\n",
        "  parimpar = 'Par'\n",
        "else:\n",
        "  parimpar = 'Impar'\n",
        "\n",
        "# Descobrir Positivo ou Negativo\n",
        "\n",
        "if resultado > 0:\n",
        "  posneg = 'Positivo'\n",
        "else:\n",
        "  posneg = 'Negativo'\n",
        "\n",
        "# Descobrir Inteiro ou Decimal \n",
        "\n",
        "if resultado == round(resultado):\n",
        "  decint = 'Inteiro'\n",
        "else: \n",
        "  decint = 'Decimal'\n",
        "\n",
        "print(f'''\n",
        "\n",
        "O resultado da operação escolhida é {resultado}\n",
        "e este numero é é {parimpar}, {posneg} e {decint}''')"
      ],
      "metadata": {
        "colab": {
          "base_uri": "https://localhost:8080/"
        },
        "id": "dSgMVFSkqRLN",
        "outputId": "aa311e73-c9b3-434c-d687-3525e7fc007b"
      },
      "execution_count": null,
      "outputs": [
        {
          "output_type": "stream",
          "name": "stdout",
          "text": [
            "Numero: 875\n",
            "Numero 2: 64\n",
            "Qual operação deseja realizar? \n",
            "Adição (+) Multiplicação (*) Subtração (-) Divisão (/) : \n",
            "/\n",
            "\n",
            "\n",
            "O resultado da operação escolhida é 13.671875\n",
            "e este numero é é Impar, Positivo e Decimal\n"
          ]
        }
      ]
    },
    {
      "cell_type": "markdown",
      "source": [
        "25 - Faça um programa que faça 5 perguntas para uma pessoa sobre um crime. As perguntas são:\n",
        "\n",
        "\"Telefonou para a vítima?\"\n",
        "\n",
        "\"Esteve no local do crime?\"\n",
        "\n",
        "\"Mora perto da vítima?\"\n",
        "\n",
        "\"Devia para a vítima?\"\n",
        "\n",
        "\"Já trabalhou com a vítima?\"\n",
        "\n",
        " O programa deve no final emitir uma classificação sobre a participação da pessoa no crime. Se a pessoa responder positivamente a 2 questões ela deve ser classificada como \"Suspeita\", entre 3 e 4 como \"Cúmplice\" e 5 como \"Assassino\". Caso contrário, ele será classificado como \"Inocente\".\n"
      ],
      "metadata": {
        "id": "qjmbk8yvvHDB"
      }
    },
    {
      "cell_type": "code",
      "source": [
        "p1 = int(input('Telefonou para vitima? 1 - Sim / 0 - Não: '))\n",
        "p2 = int(input('Esteve no local do crime? 1 - Sim / 0 - Não : '))\n",
        "p3 = int(input('Mora perto da vitima? 1 - Sim / 0 - Não : '))\n",
        "p4 = int(input('Devia para vitima? 1 - Sim / 0 - Não : '))\n",
        "p5 = int(input('Já trabalho com a vítima? 1 - Sim / 0 - Não : '))\n",
        "\n",
        "respost = p1 + p2 + p3 + p4 + p5\n",
        "\n",
        "if respost < 2:\n",
        "  print('Inocente')\n",
        "elif respost == 2:\n",
        "  print('Suspeito')\n",
        "elif respost == 3 and respost < 4:\n",
        "  print('Cumplice')\n",
        "elif respost == 5:\n",
        "  print('ASSASSINO!')\n",
        "else:\n",
        "  print('Tente novamente utilizando \"1\" ou \"0\" como respostas. :) ')\n",
        "\n"
      ],
      "metadata": {
        "colab": {
          "base_uri": "https://localhost:8080/"
        },
        "id": "et2mNWbovZJ7",
        "outputId": "a8d2d489-b634-4969-aa81-f46ec51ac601"
      },
      "execution_count": null,
      "outputs": [
        {
          "output_type": "stream",
          "name": "stdout",
          "text": [
            "Telefonou para vitima? 1 - Sim / 0 - Não: 2\n",
            "Esteve no local do crime? 1 - Sim / 0 - Não : 2\n",
            "Mora perto da vitima? 1 - Sim / 0 - Não : 2\n",
            "Devia para vitima? 1 - Sim / 0 - Não : 2\n",
            "Já trabalho com a vítima? 1 - Sim / 0 - Não : 2\n",
            "Tente novamente utilizando \"1\" ou \"0\" como respostas. :) \n"
          ]
        }
      ]
    },
    {
      "cell_type": "markdown",
      "source": [
        "26 - Um posto está vendendo combustíveis com a seguinte tabela de descontos:\n",
        "\n",
        "Álcool:\n",
        "até 20 litros, desconto de 3% por litro\n",
        "\n",
        "acima de 20 litros, desconto de 5% por litro\n",
        "\n",
        "Gasolina:\n",
        "\n",
        "até 20 litros, desconto de 4% por litro\n",
        "\n",
        "acima de 20 litros, desconto de 6% por litro\n",
        "\n",
        "Escreva um algoritmo que leia o número de litros vendidos, o tipo de combustível (codificado da seguinte forma: A-álcool, G-gasolina), calcule e imprima o valor a ser pago pelo cliente sabendo-se que o preço do litro da gasolina é R 2,50 o preço do litro do álcool é R$ 1,90.\n"
      ],
      "metadata": {
        "id": "nUkR8CbFy01y"
      }
    },
    {
      "cell_type": "code",
      "source": [
        "litros_v = float(input('Quantos litros você vai querer?: '))\n",
        "tipo = (input('Tipo A- alcool ou G-gasolina: ')).upper()\n",
        "preco = 0\n",
        "# Descontos Alcool\n",
        "\n",
        "if tipo == 'A':\n",
        "  preco = litros_v * 1.9\n",
        "  if litros_v <= 20: \n",
        "    desconto = preco * 0.03\n",
        "    valor_final = preco - desconto\n",
        "  elif litros_v > 20:\n",
        "    desconto = preco * 0.05\n",
        "    valor_final = preco - desconto\n",
        "\n",
        "# Descontos Gasolina\n",
        "\n",
        "elif tipo == 'G':\n",
        "  preco = litros_v * 2.5\n",
        "  if litros_v <= 20: \n",
        "    desconto = preco * 0.04\n",
        "    valor_final = preco - desconto\n",
        "  elif litros_v > 20:\n",
        "    desconto = preco * 0.06\n",
        "    valor_final = preco - desconto\n",
        "\n",
        "print(f'O valor total com descontos fica R$ {valor_final}')\n",
        "  "
      ],
      "metadata": {
        "colab": {
          "base_uri": "https://localhost:8080/"
        },
        "id": "ecfofCubzWvo",
        "outputId": "29ad4fd2-e7e6-4681-ee9c-cc060583a177"
      },
      "execution_count": null,
      "outputs": [
        {
          "output_type": "stream",
          "name": "stdout",
          "text": [
            "Quantos litros você vai querer?: 54\n",
            "Tipo A- alcool ou G-gasolina: g\n",
            "O valor total com descontos fica R$ 126.9\n"
          ]
        }
      ]
    },
    {
      "cell_type": "markdown",
      "source": [
        "27 - Uma fruteira está vendendo frutas com a seguinte tabela de preços:\n",
        "\n",
        "\n",
        "```     \n",
        "                      Até 5 Kg           Acima de 5 Kg\n",
        "Morango         R$ 2,50 por Kg          R$ 2,20 por Kg\n",
        "Maçã            R$ 1,80 por Kg          R$ 1,50 por Kg\n",
        "\n",
        "```\n",
        "Se o cliente comprar mais de 8 Kg em frutas ou o valor total da compra ultrapassar R$ 25,00, receberá ainda um desconto de 10% sobre este total. Escreva um algoritmo para ler a quantidade (em Kg) de morangos e a quantidade (em Kg) de maças adquiridas e escreva o valor a ser pago pelo cliente.\n"
      ],
      "metadata": {
        "id": "KtC38lGS9rID"
      }
    },
    {
      "cell_type": "code",
      "source": [
        "morango = float(input('Quantos kg de morangos comprados: '))\n",
        "maca = float(input('Quantos kg de maça comprados: '))\n",
        "\n",
        "preco_morango = morango * 2.5\n",
        "preco_morango2 = morango * 2.2\n",
        "\n",
        "preco_maca = maca * 1.8\n",
        "preco_maca2 = maca * 1.5\n",
        "\n",
        "if morango <= 5:\n",
        "  novo_preco = preco_morango\n",
        "elif morango > 5:\n",
        "  novo_preco = preco_morango2\n",
        "\n",
        "if maca <= 5:\n",
        "  novo_preco_b = preco_maca\n",
        "elif maca > 5:\n",
        "  novo_preco_b = preco_maca2\n",
        "  \n",
        "preco_total = novo_preco + novo_preco_b\n",
        "\n",
        "if preco_total > 25 or (maca + morango) > 8:\n",
        "  desconto_a = preco_total * 0.10\n",
        "  final = preco_total - desconto_a\n",
        "  print(f'Preço final: R$ {final:.2f}')\n",
        "else:\n",
        "  print(f'Preço final: R$ {preco_total:.2f}')"
      ],
      "metadata": {
        "colab": {
          "base_uri": "https://localhost:8080/"
        },
        "id": "EUUtwXKH-BSX",
        "outputId": "bc005037-25f9-4b0f-c23f-595e8b29c95d"
      },
      "execution_count": null,
      "outputs": [
        {
          "output_type": "stream",
          "name": "stdout",
          "text": [
            "Quantos kg de morangos comprados: 8\n",
            "Quantos kg de maça comprados: 0\n",
            "Preço final: R$ 17.60\n"
          ]
        }
      ]
    },
    {
      "cell_type": "markdown",
      "source": [
        "28 - O Hipermercado Tabajara está com uma promoção de carnes que é imperdível. Confira:\n",
        "\n",
        "\n",
        "```\n",
        "                      Até 5 Kg           Acima de 5 Kg\n",
        "File Duplo      R$ 4,90 por Kg          R$ 5,80 por Kg\n",
        "Alcatra         R$ 5,90 por Kg          R$ 6,80 por Kg\n",
        "Picanha         R$ 6,90 por Kg          R$ 7,80 por Kg\n",
        "```\n",
        "\n",
        "Para atender a todos os clientes, cada cliente poderá levar apenas um dos tipos de carne da promoção, porém não há limites para a quantidade de carne por cliente. Se compra for feita no cartão Tabajara o cliente receberá ainda um desconto de 5% sobre o total da compra. Escreva um programa que peça o tipo e a quantidade de carne comprada pelo usuário e gere um cupom fiscal, contendo as informações da compra: tipo e quantidade de carne, preço total, tipo de pagamento, valor do desconto e valor a pagar."
      ],
      "metadata": {
        "id": "Oj0E0M6FEwZl"
      }
    },
    {
      "cell_type": "code",
      "source": [
        "tipo_a = (input('Qual carne foi comprada: ')).lower()\n",
        "quantidade = float(input('Quantidade de carne (kg): '))\n",
        "pagamento = (input('Qual é o pagamento? Dinheiro ou cartao Tabajara: ')).lower()\n",
        "\n",
        "if tipo_a == 'file duplo':\n",
        "  if quantidade <= 5:\n",
        "    custo = quantidade * 4.90\n",
        "  elif quantidade > 5:\n",
        "    custo = quantidade * 5.80\n",
        "elif tipo_a == 'alcantra':\n",
        "  if quantidade <= 5:\n",
        "    custo = quantidade * 5.90\n",
        "  elif quantidade > 5:\n",
        "    custo = quantidade * 6.80\n",
        "elif tipo_a == 'picanha':\n",
        "  if quantidade <= 5:\n",
        "    custo = quantidade * 6.90\n",
        "  elif quantidade > 5:\n",
        "    custo = quantidade * 7.80\n",
        "\n",
        "if pagamento == 'dinheiro':\n",
        "  print(f''' \n",
        "  CUPOM FISCAL\n",
        "  Tipo: {tipo_a}\n",
        "  Quantidade: {quantidade} Kg\n",
        "  Preço total: R$ {custo:.2f}\n",
        "  Tipo de pagamento: {pagamento}\n",
        "  Valor do Desconto: R$ 0.00\n",
        "  Valor a pagar: R$ {custo:.2f}\n",
        "  ''')\n",
        "elif pagamento == 'cartao tabajara':\n",
        "  nw_desconto = custo * 0.05\n",
        "  preco_f = custo - nw_desconto\n",
        "  print(f'''\n",
        "  CUPOM FISCAL\n",
        "  Tipo: {tipo_a}\n",
        "  Quantidade: {quantidade} Kg\n",
        "  Preço total: R$ {custo:.2f}\n",
        "  Tipo de pagamento: {pagamento}\n",
        "  Valor do Desconto: R$ {nw_desconto:.2f}\n",
        "  Valor a pagar: R$ {preco_f:.2f}\n",
        "  ''')"
      ],
      "metadata": {
        "colab": {
          "base_uri": "https://localhost:8080/"
        },
        "id": "EK9S4A8gFAqS",
        "outputId": "771242e1-3945-4bdb-d42f-82ac63e030e2"
      },
      "execution_count": null,
      "outputs": [
        {
          "output_type": "stream",
          "name": "stdout",
          "text": [
            "Qual carne foi comprada: alcantra\n",
            "Quantidade de carne (kg): 8\n",
            "Qual é o pagamento? Dinheiro ou cartao Tabajara: dinheiro\n",
            " \n",
            "  CUPOM FISCAL\n",
            "  Tipo: alcantra\n",
            "  Quantidade: 8.0 Kg\n",
            "  Preço total: R$ 54.40\n",
            "  Tipo de pagamento: dinheiro\n",
            "  Valor do Desconto: R$ 0.00\n",
            "  Valor a pagar: R$ 54.40\n",
            "  \n"
          ]
        }
      ]
    }
  ]
}