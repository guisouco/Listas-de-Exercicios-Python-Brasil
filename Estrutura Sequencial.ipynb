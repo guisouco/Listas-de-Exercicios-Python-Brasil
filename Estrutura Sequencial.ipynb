{
  "nbformat": 4,
  "nbformat_minor": 0,
  "metadata": {
    "colab": {
      "name": "NOVO PYTHON.ipynb",
      "provenance": [],
      "collapsed_sections": [],
      "authorship_tag": "ABX9TyMdc/LVcEf4hrEPg8typmKL"
    },
    "kernelspec": {
      "name": "python3",
      "display_name": "Python 3"
    },
    "language_info": {
      "name": "python"
    }
  },
  "cells": [
    {
      "cell_type": "markdown",
      "source": [
        "##Exercicios de [Estrutura Sequencial](https://wiki.python.org.br/EstruturaSequencial)"
      ],
      "metadata": {
        "id": "9BSMzobPa7Fk"
      }
    },
    {
      "cell_type": "markdown",
      "source": [
        "1 - Faça um Programa que mostre a mensagem \"Alo mundo\" na tela."
      ],
      "metadata": {
        "id": "yR1u9cf0bLwo"
      }
    },
    {
      "cell_type": "code",
      "source": [
        "print ('Olá, mundo') "
      ],
      "metadata": {
        "colab": {
          "base_uri": "https://localhost:8080/"
        },
        "id": "QsaoMkojbZVB",
        "outputId": "73107eba-496f-4657-97e2-094f1b36253d"
      },
      "execution_count": null,
      "outputs": [
        {
          "output_type": "stream",
          "name": "stdout",
          "text": [
            "Olá, mundo\n"
          ]
        }
      ]
    },
    {
      "cell_type": "markdown",
      "source": [
        "2 - Faça um Programa que peça um número e então mostre a mensagem *O número informado foi [número].* "
      ],
      "metadata": {
        "id": "532G1Ls5cGnD"
      }
    },
    {
      "cell_type": "code",
      "source": [
        "numero = input('Digite um numero: ') \n",
        "\n",
        "print(f'O número informado foi {numero}')"
      ],
      "metadata": {
        "colab": {
          "base_uri": "https://localhost:8080/"
        },
        "id": "VmadBsMPcTW6",
        "outputId": "fff1da6c-5c85-4845-f3ba-bbbea4a0bd18"
      },
      "execution_count": null,
      "outputs": [
        {
          "output_type": "stream",
          "name": "stdout",
          "text": [
            "Digite um numero: 9\n",
            "O número informado foi 9\n"
          ]
        }
      ]
    },
    {
      "cell_type": "markdown",
      "source": [
        "3 - Faça um Programa que peça dois números e imprima a soma."
      ],
      "metadata": {
        "id": "rkXA-phzc9EF"
      }
    },
    {
      "cell_type": "code",
      "source": [
        "n1 = int(input('Digite um numero: '))\n",
        "n2 = int(input('Digite outro numero: '))\n",
        "\n",
        "print(f'A soma dos dois numeros é {n1+n2}')"
      ],
      "metadata": {
        "colab": {
          "base_uri": "https://localhost:8080/"
        },
        "id": "HxSEeuHldBoK",
        "outputId": "9b43503c-5470-46ce-a764-de0e69b7025b"
      },
      "execution_count": null,
      "outputs": [
        {
          "output_type": "stream",
          "name": "stdout",
          "text": [
            "Digite um numero: 10\n",
            "Digite outro numero: 3\n",
            "A soma dos dois numeros é 13\n"
          ]
        }
      ]
    },
    {
      "cell_type": "markdown",
      "source": [
        "4 - Faça um Programa que peça as 4 notas bimestrais e mostre a média."
      ],
      "metadata": {
        "id": "07QNYTePeBfG"
      }
    },
    {
      "cell_type": "code",
      "source": [
        "b1 = float(input('Digite a nota do primeiro bimestre: '))\n",
        "b2 = float(input('Digite a nota do segundo bimestre: '))\n",
        "b3 = float(input('Digite a nota do terceiro bimestre: '))\n",
        "b4 = float(input('Digite a nota do quarto bimestre: '))\n",
        "\n",
        "print(f'Média geral: {(b1+b2+b3+b4)/4:.1f}')"
      ],
      "metadata": {
        "colab": {
          "base_uri": "https://localhost:8080/"
        },
        "id": "ElJ76z09eGCN",
        "outputId": "2c00933b-4f2f-4ae0-ac57-13f07963f3e7"
      },
      "execution_count": null,
      "outputs": [
        {
          "output_type": "stream",
          "name": "stdout",
          "text": [
            "Digite a nota do primeiro bimestre: 6.6\n",
            "Digite a nota do segundo bimestre: 6.7\n",
            "Digite a nota do terceiro bimestre: 2.5\n",
            "Digite a nota do quarto bimestre: 7.9\n",
            "Média geral: 5.9\n"
          ]
        }
      ]
    },
    {
      "cell_type": "markdown",
      "source": [
        "5 - Faça um Programa que converta metros para centímetros."
      ],
      "metadata": {
        "id": "Fk79cxSemrAh"
      }
    },
    {
      "cell_type": "code",
      "source": [
        "m = 100 \n",
        "print(f'{m} metros convertido para centimetros são: {m *100} cm')"
      ],
      "metadata": {
        "colab": {
          "base_uri": "https://localhost:8080/"
        },
        "id": "Lu17SIgUm5vB",
        "outputId": "8745a5b4-798d-4c16-b09e-b11142347e8f"
      },
      "execution_count": null,
      "outputs": [
        {
          "output_type": "stream",
          "name": "stdout",
          "text": [
            "100 metros convertido para centimetros são: 10000 cm\n"
          ]
        }
      ]
    },
    {
      "cell_type": "markdown",
      "source": [
        "6 - Faça um Programa que peça o raio de um círculo, calcule e mostre sua área."
      ],
      "metadata": {
        "id": "ZvPI4Z-InybR"
      }
    },
    {
      "cell_type": "code",
      "source": [
        "r = float(input('Digite o raio do circulo em metros '))\n",
        "\n",
        "print(f'A área do circulo é {(r ** 2) * 3.14:.2f} M²') \n"
      ],
      "metadata": {
        "colab": {
          "base_uri": "https://localhost:8080/"
        },
        "id": "yMN91kPJoHYu",
        "outputId": "302596b8-267a-4aee-f6bb-8ea6276753a5"
      },
      "execution_count": null,
      "outputs": [
        {
          "output_type": "stream",
          "name": "stdout",
          "text": [
            "Digite o raio do circulo em metros 3.5\n",
            "A área do circulo é 38.47 M²\n"
          ]
        }
      ]
    },
    {
      "cell_type": "markdown",
      "source": [
        "7 - Faça um Programa que calcule a área de um quadrado, em seguida mostre o dobro desta área para o usuário."
      ],
      "metadata": {
        "id": "Agn2DGdjqu2x"
      }
    },
    {
      "cell_type": "code",
      "source": [
        "b = 5\n",
        "h = 10 \n",
        "\n",
        "print(f'A área do quadrado é {b*h} e seu dobro é {(b*h) * 2}')"
      ],
      "metadata": {
        "colab": {
          "base_uri": "https://localhost:8080/"
        },
        "id": "j6mYn3RsqySC",
        "outputId": "fc9ec531-7c45-4a60-d8d6-420d1fa739cd"
      },
      "execution_count": null,
      "outputs": [
        {
          "output_type": "stream",
          "name": "stdout",
          "text": [
            "A área do quadrado é 50 e seu dobro é 100\n"
          ]
        }
      ]
    },
    {
      "cell_type": "markdown",
      "source": [
        "8 - Faça um Programa que pergunte quanto você ganha por hora e o número de horas trabalhadas no mês. Calcule e mostre o total do seu salário no referido mês. "
      ],
      "metadata": {
        "id": "cDRrhc1IsGWS"
      }
    },
    {
      "cell_type": "code",
      "source": [
        "g = float(input('Quanto você ganha por hora: '))\n",
        "ht = float(input('Horas trabalhadas ao mês: ')) \n",
        "\n",
        "print(f'Seu sálario é: R$ {g * ht:.2f} ')\n"
      ],
      "metadata": {
        "colab": {
          "base_uri": "https://localhost:8080/"
        },
        "id": "jY7q5CCpsKh7",
        "outputId": "5db442b9-5efe-4f5d-d5d2-ef23f3e65679"
      },
      "execution_count": null,
      "outputs": [
        {
          "output_type": "stream",
          "name": "stdout",
          "text": [
            "Quanto você ganha por hora: 4\n",
            "Horas trabalhadas ao mês: 140\n",
            "Seu sálario é: R$ 560.00 \n"
          ]
        }
      ]
    },
    {
      "cell_type": "markdown",
      "source": [
        "9 - Faça um Programa que peça a temperatura em graus Fahrenheit, transforme e mostre a temperatura em graus Celsius.\n",
        "\n",
        "**C = 5 * ((F-32) / 9).**"
      ],
      "metadata": {
        "id": "U7gO6abmuFbO"
      }
    },
    {
      "cell_type": "code",
      "source": [
        "fahr = int(input('Digite a temperatura em graus Fahrenheit: '))\n",
        "\n",
        "print(f'A temperatura {fahr}° em graus celsius é {5 * ((fahr - 32) / 9):.0f}°')"
      ],
      "metadata": {
        "colab": {
          "base_uri": "https://localhost:8080/"
        },
        "id": "sLQ85RovwSPd",
        "outputId": "a0a3accf-1ef5-4244-8449-8853bab2081e"
      },
      "execution_count": null,
      "outputs": [
        {
          "output_type": "stream",
          "name": "stdout",
          "text": [
            "Digite a temperatura em graus Fahrenheit: 64\n",
            "A temperatura 64° em graus celsius é 18°\n"
          ]
        }
      ]
    },
    {
      "cell_type": "markdown",
      "source": [
        "10 - Faça um Programa que peça a temperatura em graus Celsius, transforme e mostre em graus Fahrenheit. "
      ],
      "metadata": {
        "id": "sVbsx5bsyItb"
      }
    },
    {
      "cell_type": "code",
      "source": [
        "cels = int(input('Digite a temperatura em celsius: '))\n",
        "\n",
        "print(f'A temperatura {cels}° em graus fahrenheit é {cels * 1.8 + 32:.0f}°')"
      ],
      "metadata": {
        "colab": {
          "base_uri": "https://localhost:8080/"
        },
        "id": "4GNbeWtJzHMO",
        "outputId": "11c084c7-630a-49db-b9b2-f7a79ebdecc3"
      },
      "execution_count": null,
      "outputs": [
        {
          "output_type": "stream",
          "name": "stdout",
          "text": [
            "Digite a temperatura em celsius: 24\n",
            "A temperatura 24° em graus fahrenheit é 75°\n"
          ]
        }
      ]
    },
    {
      "cell_type": "markdown",
      "source": [
        "11 - Faça um Programa que peça 2 números inteiros e um número real. Calcule e mostre:\n",
        "\n",
        "\n",
        "> a) o produto do dobro do primeiro com metade do segundo\n",
        "\n",
        "> b) a soma do triplo do primeiro com o terceiro\n",
        "\n",
        "> c) o terceiro elevado ao cubo\n",
        "\n",
        "\n",
        "\n"
      ],
      "metadata": {
        "id": "D7shD2I7zlYi"
      }
    },
    {
      "cell_type": "code",
      "source": [
        "n_1 = int(input('Digite um número inteiro: '))\n",
        "n_2 = int(input('Digite outro numero inteiro: '))\n",
        "n_3 = float(input('Digite um numero real: '))\n",
        "\n",
        "print(f'a) o produto do dobro do primeiro com metade do segundo: {(n_1 * 2) * (n_2 / 2):.0f}')\n",
        "print(f'b) a soma do triplo do primeiro com o terceiro {(n_1 * 3) + n_3:.0f}')\n",
        "print(f'c) o terceiro elevado ao cubo {n_3 ** 3:.0f}')"
      ],
      "metadata": {
        "colab": {
          "base_uri": "https://localhost:8080/"
        },
        "id": "UE_A1VZs0MoA",
        "outputId": "4c5451e0-d973-4cf9-ecc6-3283f5af3242"
      },
      "execution_count": null,
      "outputs": [
        {
          "output_type": "stream",
          "name": "stdout",
          "text": [
            "Digite um número inteiro: 7\n",
            "Digite outro numero inteiro: 9\n",
            "Digite um numero real: 10.4\n",
            "a) o produto do dobro do primeiro com metade do segundo: 63\n",
            "b) a soma do triplo do primeiro com o terceiro 31\n",
            "c) o terceiro elevado ao cubo 1125\n"
          ]
        }
      ]
    },
    {
      "cell_type": "markdown",
      "source": [
        "12 - Tendo como dados de entrada a altura de uma pessoa, construa um algoritmo que calcule seu peso ideal, usando a seguinte fórmula: **(72.7*altura) - 58** "
      ],
      "metadata": {
        "id": "q472TYUg52ll"
      }
    },
    {
      "cell_type": "code",
      "source": [
        "a = float(input('Sua altura (ex: 1.70): '))\n",
        "\n",
        "print(f'Peso ideal: {(72.7 * a) - 58:.2f} kg')"
      ],
      "metadata": {
        "colab": {
          "base_uri": "https://localhost:8080/"
        },
        "id": "RWne1qUj6BGX",
        "outputId": "83c9913c-16d6-4180-8596-6cfbe8c28955"
      },
      "execution_count": null,
      "outputs": [
        {
          "output_type": "stream",
          "name": "stdout",
          "text": [
            "Sua altura (ex: 1.70): 1.68\n",
            "Peso ideal: 64.14 kg\n"
          ]
        }
      ]
    },
    {
      "cell_type": "markdown",
      "source": [
        "13 - Tendo como dado de entrada a altura (h) de uma pessoa, construa um algoritmo que calcule seu peso ideal, utilizando as seguintes fórmulas:\n",
        "\n",
        "Para homens: (72.7*h) - 58\n",
        "\n",
        "Para mulheres: (62.1*h) - 44.7"
      ],
      "metadata": {
        "id": "APoeZLPa851T"
      }
    },
    {
      "cell_type": "code",
      "source": [
        "alt = float(input('Sua altura (ex: 1.70): '))\n",
        "s = input('Qual seu sexo? F para Feminino e M para masculino: ').upper()\n",
        "\n",
        "if s == 'M' :\n",
        "  print(f'Seu peso ideal é {(72.7 * alt) - 58:.2f} kg')\n",
        "elif s == 'F' : \n",
        "  print(f'Seu peso ideal é {(62.1 * alt) - 44.7:.2f} kg')\n",
        "else: \n",
        "  print('Sexo inválido')"
      ],
      "metadata": {
        "colab": {
          "base_uri": "https://localhost:8080/"
        },
        "id": "xBGS8gpX9E7I",
        "outputId": "9caeea0f-104d-4033-ac35-980f4d6f3e6e"
      },
      "execution_count": null,
      "outputs": [
        {
          "output_type": "stream",
          "name": "stdout",
          "text": [
            "Sua altura (ex: 1.70): 1.68\n",
            "Qual seu sexo? F para Feminino e M para masculino: v\n",
            "Sexo inválido\n"
          ]
        }
      ]
    },
    {
      "cell_type": "markdown",
      "source": [
        "14 - João Papo-de-Pescador, homem de bem, comprou um microcomputador para controlar o rendimento diário de seu trabalho. Toda vez que ele traz um peso de peixes maior que o estabelecido pelo regulamento de pesca do estado de São Paulo (50 quilos) deve pagar uma multa de R$ 4,00 por quilo excedente. João precisa que você faça um programa que leia a variável peso (peso de peixes) e calcule o excesso. Gravar na variável excesso a quantidade de quilos além do limite e na variável multa o valor da multa que João deverá pagar. Imprima os dados do programa com as mensagens adequadas."
      ],
      "metadata": {
        "id": "hJN8KzunOaAy"
      }
    },
    {
      "cell_type": "code",
      "source": [
        "peso = float(input('Digite quantos kg João trouxe: '))\n",
        "\n",
        "excesso = peso - 50\n",
        "\n",
        "if peso > 50:\n",
        "  multa = excesso * 4.00\n",
        "  print(f'Você irá pagar uma multa no valor de: R$ {multa:.2f} ')\n",
        "else: \n",
        "  print(f'Peso permitido por lei')"
      ],
      "metadata": {
        "colab": {
          "base_uri": "https://localhost:8080/"
        },
        "id": "3gaQDqTAOdrT",
        "outputId": "9595bb0f-570f-44df-a7d6-a15a763b2290"
      },
      "execution_count": null,
      "outputs": [
        {
          "output_type": "stream",
          "name": "stdout",
          "text": [
            "Digite quantos kg João trouxe: 76.4\n",
            "Você irá pagar uma multa no valor de: R$ 105.60 \n"
          ]
        }
      ]
    },
    {
      "cell_type": "markdown",
      "source": [
        "15 - Faça um Programa que pergunte quanto você ganha por hora e o número de horas trabalhadas no mês. Calcule e mostre o total do seu salário no referido mês, sabendo-se que são descontados 11% para o Imposto de Renda, 8% para o INSS e 5% para o sindicato, faça um programa que nos dê:\n",
        "\n",
        "\n",
        "\n",
        "> salário bruto.\n",
        "\n",
        "> quanto pagou ao INSS.\n",
        "\n",
        "> quanto pagou ao sindicato.\n",
        "\n",
        "> o salário líquido.\n",
        "\n",
        "calcule os descontos e o salário líquido, conforme a tabela abaixo:"
      ],
      "metadata": {
        "id": "PaE4BJVMRdq6"
      }
    },
    {
      "cell_type": "code",
      "source": [
        "salario = float(input('Quanto você ganha por hora: '))\n",
        "horas_t = int(input('Horas trabalhadas no mês: ')) \n",
        "\n",
        "salario_bruto = salario * horas_t\n",
        "\n",
        "print(f'+ Salário Bruto : R$ {salario * horas_t}')\n",
        "print(f'- IR (11%) : R$ {salario_bruto * 0.11:.2f}')\n",
        "print(f'- INSS (8%) : R$ {salario_bruto * 0.08:.2f}')\n",
        "print(f'- Sindicato ( 5%) : R$ {salario_bruto * 0.05:.2f}')\n",
        "print(f'= Salário Liquido : R$ {salario_bruto - (salario_bruto * 0.11) - (salario_bruto * 0.08) - (salario_bruto * 0.05):.2f}')"
      ],
      "metadata": {
        "colab": {
          "base_uri": "https://localhost:8080/"
        },
        "id": "3uiI-MBHSdYY",
        "outputId": "af80a709-6b3b-4fc9-8966-1bee090dd7c3"
      },
      "execution_count": null,
      "outputs": [
        {
          "output_type": "stream",
          "name": "stdout",
          "text": [
            "Quanto você ganha por hora: 9.5\n",
            "Horas trabalhadas no mês: 150\n",
            "+ Salário Bruto : R$ 1425.0\n",
            "- IR (11%) : R$ 156.75\n",
            "- INSS (8%) : R$ 114.00\n",
            "- Sindicato ( 5%) : R$ 71.25\n",
            "= Salário Liquido : R$ 1083.00\n"
          ]
        }
      ]
    },
    {
      "cell_type": "markdown",
      "source": [
        "16 - Faça um programa para uma loja de tintas. O programa deverá pedir o tamanho em metros quadrados da área a ser pintada. Considere que a cobertura da tinta é de 1 litro para cada 3 metros quadrados e que a tinta é vendida em latas de 18 litros, que custam R$ 80,00. Informe ao usuário a quantidades de latas de tinta a serem compradas e o preço total."
      ],
      "metadata": {
        "id": "A6Tzk-Y8XXaU"
      }
    },
    {
      "cell_type": "code",
      "source": [
        "m2 = float(input('Area a ser pintada em M²: '))\n",
        "litros = m2 / 3\n",
        "latas = int(litros / 18)\n",
        "\n",
        "if litros % 18 != 0:\n",
        "    latas += 1\n",
        "\n",
        "print('Voce deverá comprar', latas, 'latas.')\n",
        "print('O valor total é:', latas * 80)\n"
      ],
      "metadata": {
        "colab": {
          "base_uri": "https://localhost:8080/"
        },
        "id": "9hujGYl7XfX_",
        "outputId": "245089fb-3cda-487b-8df5-252a1521c7b6"
      },
      "execution_count": null,
      "outputs": [
        {
          "output_type": "stream",
          "name": "stdout",
          "text": [
            "Area a ser pintada em M²: 0.5\n",
            "Voce deverá comprar 1 latas.\n",
            "O valor total é: 80\n"
          ]
        }
      ]
    },
    {
      "cell_type": "markdown",
      "source": [
        "17 - Faça um Programa para uma loja de tintas. O programa deverá pedir o tamanho em metros quadrados da área a ser pintada. Considere que a cobertura da tinta é de 1 litro para cada 6 metros quadrados e que a tinta é vendida em latas de 18 litros, que custam 80,00 reais ou em galões de 3,6 litros, que custam R$ 25,00.\n",
        "Informe ao usuário as quantidades de tinta a serem compradas e os respectivos preços em 3 situações:\n",
        "\n",
        "comprar apenas latas de 18 litros;\n",
        "\n",
        "comprar apenas galões de 3,6 litros;\n",
        "\n",
        "misturar latas e galões, de forma que o desperdício de tinta seja menor. Acrescente 10% de folga e sempre arredonde os valores para cima, isto é, considere latas cheias."
      ],
      "metadata": {
        "id": "CAlKoz2keq81"
      }
    },
    {
      "cell_type": "code",
      "source": [
        "import math \n",
        "\n",
        "area_a_ser_pintada = int(input ('Digite a área em metros qual vai ser pintada: '))\n",
        "area_com_folga = area_a_ser_pintada * 1.1\n",
        "litros_por_metro = 6\n",
        "litros_a_serem_usados = area_com_folga / litros_por_metro\n",
        "litros_por_lata = 18\n",
        "numero_de_latas = math.ceil(litros_a_serem_usados / litros_por_lata)\n",
        "valor_com_apenas_latas = numero_de_latas * 80\n",
        "print(f'Você deverá usar {numero_de_latas} latas de 18 litros, no valor de R$ {valor_com_apenas_latas}')\n",
        "\n",
        "litros_por_galao = 3.6\n",
        "numero_de_galoes = math.ceil(litros_a_serem_usados / litros_por_galao)\n",
        "valor_com_apenas_galoes = numero_de_galoes * 25\n",
        "print(f'Você deverá usar {numero_de_galoes} galões de 3.6 litros, no valor de R$ {valor_com_apenas_galoes}')\n",
        "\n",
        "#Compra de Tinta Otimizada Pelo Valor\n",
        "numero_de_latas = math.floor(litros_a_serem_usados / litros_por_lata)\n",
        "valor_de_latas = numero_de_latas * 80\n",
        "litros_faltantes = litros_a_serem_usados % litros_por_lata\n",
        "numero_de_galoes = math.ceil(litros_faltantes / litros_por_galao)\n",
        "valor_com_galoes = numero_de_galoes * 25\n",
        "\n",
        "valor_total = valor_de_latas + valor_com_galoes\n",
        "\n",
        "print(f'Você deverá usar {numero_de_latas} latas de 18 litros, mais {numero_de_galoes} galões de 3.6 litros, no valor de R$ {valor_total} ')"
      ],
      "metadata": {
        "colab": {
          "base_uri": "https://localhost:8080/"
        },
        "id": "ZE2LttV1fSzs",
        "outputId": "08ac0615-6a54-43ee-bd4c-44496fe819db"
      },
      "execution_count": null,
      "outputs": [
        {
          "output_type": "stream",
          "name": "stdout",
          "text": [
            "Digite a área em metros qual vai ser pintada: 54\n",
            "Você deverá usar 1 latas de 18 litros, no valor de R$ 80\n",
            "Você deverá usar 3 galões de 3.6 litros, no valor de R$ 75\n",
            "Você deverá usar 0 latas de 18 litros, mais 3 galões de 3.6 litros, no valor de R$ 75 \n"
          ]
        }
      ]
    },
    {
      "cell_type": "markdown",
      "source": [
        "18 - Faça um programa que peça o tamanho de um arquivo para download (em MB) e a velocidade de um link de Internet (em Mbps), calcule e informe o tempo aproximado de download do arquivo usando este link (em minutos)."
      ],
      "metadata": {
        "id": "1Fubmpi2o6wW"
      }
    },
    {
      "cell_type": "code",
      "source": [
        "tamanhoArquivo = float(input(\"Digite o tamanho do arquivo para download: \"))\n",
        "velocidade = float(input(\"Digite a velocidade de um link de internet: \"))\n",
        "segundos = tamanhoArquivo/velocidade\n",
        "minutos = int(segundos/60)\n",
        "segundos = segundos%60\n",
        "print(\"Tempo aproximado para download: \" + str(minutos) + \" minutos e \" + str(segundos) + \" segundos\")"
      ],
      "metadata": {
        "colab": {
          "base_uri": "https://localhost:8080/"
        },
        "id": "FphfEhpUo_Ve",
        "outputId": "481fe30c-0e6f-4354-eeab-bfc76766d271"
      },
      "execution_count": null,
      "outputs": [
        {
          "output_type": "stream",
          "name": "stdout",
          "text": [
            "Digite o tamanho do arquivo para download: 56\n",
            "Digite a velocidade de um link de internet: 7\n",
            "Tempo aproximado para download: 0 minutos e 8.0 segundos\n"
          ]
        }
      ]
    }
  ]
}