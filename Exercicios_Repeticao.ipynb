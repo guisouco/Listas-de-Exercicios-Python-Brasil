{
  "nbformat": 4,
  "nbformat_minor": 0,
  "metadata": {
    "colab": {
      "name": "Exercicios Repeticao.ipynb",
      "provenance": [],
      "collapsed_sections": [],
      "authorship_tag": "ABX9TyPRY+lai4kGQPDiC+2KbpyE",
      "include_colab_link": true
    },
    "kernelspec": {
      "name": "python3",
      "display_name": "Python 3"
    },
    "language_info": {
      "name": "python"
    }
  },
  "cells": [
    {
      "cell_type": "markdown",
      "metadata": {
        "id": "view-in-github",
        "colab_type": "text"
      },
      "source": [
        "<a href=\"https://colab.research.google.com/github/guisouco/Listas-de-Exercicios-Python-Brasil/blob/main/Exercicios_Repeticao.ipynb\" target=\"_parent\"><img src=\"https://colab.research.google.com/assets/colab-badge.svg\" alt=\"Open In Colab\"/></a>"
      ]
    },
    {
      "cell_type": "markdown",
      "source": [
        "## Exercicios de [Estrutura de Repetição](https://https://wiki.python.org.br/EstruturaDeRepeticao)"
      ],
      "metadata": {
        "id": "H8d-rXDi2FYg"
      }
    },
    {
      "cell_type": "markdown",
      "source": [
        "1 - Faça um programa que peça uma nota, entre zero e dez. Mostre uma mensagem caso o valor seja inválido e continue pedindo até que o usuário informe um valor válido.\n"
      ],
      "metadata": {
        "id": "G3mon0mJ2a14"
      }
    },
    {
      "cell_type": "code",
      "source": [
        "while True:\n",
        "  try:\n",
        "    numero = int(input('Digite um numero de 0 a 10: '))\n",
        "  except:\n",
        "    print('Deve ser fornecido um valor inteiro')\n",
        "  else: \n",
        "    if 0 <= numero <= 10:\n",
        "      print('Numero válido')\n",
        "      break\n",
        "    else: \n",
        "      print('Numero inválido. O numero deve estar entre 0 a 10.')"
      ],
      "metadata": {
        "colab": {
          "base_uri": "https://localhost:8080/"
        },
        "id": "H0UOkw4I2cR8",
        "outputId": "8f9fa949-68a8-45de-8d8c-7172d4d93b79"
      },
      "execution_count": null,
      "outputs": [
        {
          "output_type": "stream",
          "name": "stdout",
          "text": [
            "Digite um numero de 0 a 10: 11\n",
            "Numero inválido. O numero deve estar entre 0 a 10.\n",
            "Digite um numero de 0 a 10: gui\n",
            "Deve ser fornecido um valor inteiro\n",
            "Digite um numero de 0 a 10: -1\n",
            "Numero inválido. O numero deve estar entre 0 a 10.\n",
            "Digite um numero de 0 a 10: 10\n",
            "Numero válido\n"
          ]
        }
      ]
    },
    {
      "cell_type": "markdown",
      "source": [
        "2 - Faça um programa que leia um nome de usuário e a sua senha e não aceite a senha igual ao nome do usuário, mostrando uma mensagem de erro e voltando a pedir as informações.\n"
      ],
      "metadata": {
        "id": "-xtk9V-c-AJj"
      }
    },
    {
      "cell_type": "code",
      "source": [
        "usuario = input('Usuario: ')\n",
        "senha = input('Senha: ')\n",
        "\n",
        "\n",
        "while usuario == senha: \n",
        "    print('Erro. A senha não deve ser a mesma que o usuario.')\n",
        "    usuario = input('Usuario: ')\n",
        "    senha = input('Senha: ')\n",
        "else:\n",
        "  print('Senha segura e cadastro realizado com sucesso :)')"
      ],
      "metadata": {
        "colab": {
          "base_uri": "https://localhost:8080/"
        },
        "id": "WYL5ExiE-EXm",
        "outputId": "953e5d38-372b-47d8-98d6-9dde7c071852"
      },
      "execution_count": null,
      "outputs": [
        {
          "output_type": "stream",
          "name": "stdout",
          "text": [
            "Usuario: guisouco\n",
            "Senha: guisouco\n",
            "Erro. O senha não deve ser a mesma que o usuario.\n",
            "Usuario: guisouco\n",
            "Senha: 123456789\n",
            "Senha segura e cadastro realizado com sucesso :)\n"
          ]
        }
      ]
    },
    {
      "cell_type": "markdown",
      "source": [
        "3 - Faça um programa que leia e valide as seguintes informações:\n",
        "\n",
        "Nome: maior que 3 caracteres;\n",
        "\n",
        "Idade: entre 0 e 150;\n",
        "\n",
        "Salário: maior que zero;\n",
        "\n",
        "Sexo: 'f' ou 'm';\n",
        "\n",
        "Estado Civil: 's', 'c', 'v', 'd';"
      ],
      "metadata": {
        "id": "-KzikZ7TCQKa"
      }
    },
    {
      "cell_type": "code",
      "source": [
        "nome = str(input('Nome: '))\n",
        "while len(nome) <= 3:\n",
        "  print('Digite um nome com mais de três caracteres')\n",
        "  nome = str(input('Nome: '))\n",
        "\n",
        "idade = int(input('Idade: '))\n",
        "while 0 <= idade >  150:\n",
        "  print('Digite uma idade válida')\n",
        "  idade = int(input('Idade: '))\n",
        " \n",
        "salario = float(input('Salário: '))\n",
        "while salario <= 0:\n",
        "  print('Não existe salário')\n",
        "  salario = float(input('Salário: '))\n",
        "\n",
        "sexo = str(input('Sexo: ')).lower()\n",
        "while sexo != 'f' and sexo != 'm':\n",
        "  print('Digite um sexo válido F para Feminino ou M para masculino')\n",
        "  sexo = str(input('Sexo: ')).lower()\n",
        "\n",
        "civil = (input('Estado civil: ')).lower()\n",
        "while (civil != 's' and civil != 'c' and civil != 'v' and civil != 'd'):\n",
        "  print('Digite S, C, V ou D para respectivamente solteiro, casado, viuvo e divorciado')\n",
        "  civil = (input('Estado civil: ')).lower()"
      ],
      "metadata": {
        "colab": {
          "base_uri": "https://localhost:8080/"
        },
        "id": "We8H2XY-CX-S",
        "outputId": "04225da4-dcfc-4d8d-cf89-14583f35a7ec"
      },
      "execution_count": null,
      "outputs": [
        {
          "name": "stdout",
          "output_type": "stream",
          "text": [
            "Nome: gu\n",
            "Digite um nome com mais de três caracteres\n",
            "Nome: guilherme\n",
            "Idade: 190\n",
            "Digite uma idade válida\n",
            "Idade: 19\n",
            "Salário: -3\n",
            "Não existe salário\n",
            "Salário: 0.1\n",
            "Sexo: M\n",
            "Estado civil: solteiro\n",
            "Digite S, C, V ou D para respectivamente solteiro, casado, viuvo e divorciado\n",
            "Estado civil: S\n"
          ]
        }
      ]
    },
    {
      "cell_type": "markdown",
      "source": [
        "4 - Supondo que a população de um país A seja da ordem de 80000 habitantes com uma taxa anual de crescimento de 3% e que a população de B seja 200000 habitantes com uma taxa de crescimento de 1.5%. Faça um programa que calcule e escreva o número de anos necessários para que a população do país A ultrapasse ou iguale a população do país B, mantidas as taxas de crescimento."
      ],
      "metadata": {
        "id": "wcsMORGgJ5Gs"
      }
    },
    {
      "cell_type": "code",
      "source": [
        "populacao_a = 80000\n",
        "populacao_b = 200000\n",
        "taxa_a = 1.03\n",
        "taxa_b = 1.015\n",
        "anos = 0 \n",
        "\n",
        "while populacao_a < populacao_b:\n",
        "  # print(f'### População no ano {anos} ###')\n",
        "  # print(f'População A: {populacao_a}')\n",
        "  # print(f'População B: {populacao_b}')\n",
        "  anos += 1\n",
        "  populacao_a = int(populacao_a * taxa_a)\n",
        "  populacao_b *= taxa_b\n",
        "  populacao_b = int(populacao_b)\n",
        "\n",
        "print(f'### População no ano {anos} ###')\n",
        "print(f'População A: {populacao_a}')\n",
        "print(f'População B: {populacao_b}')\n",
        "\n"
      ],
      "metadata": {
        "colab": {
          "base_uri": "https://localhost:8080/"
        },
        "id": "1NU325eKJ91_",
        "outputId": "6989b8ee-9f9a-4d9d-c4cf-d7775d796f87"
      },
      "execution_count": null,
      "outputs": [
        {
          "output_type": "stream",
          "name": "stdout",
          "text": [
            "### População no ano 63 ###\n",
            "População A: 514954\n",
            "População B: 510908\n"
          ]
        }
      ]
    },
    {
      "cell_type": "markdown",
      "source": [
        "5 - Altere o programa anterior permitindo ao usuário informar as populações e as taxas de crescimento iniciais. Valide a entrada e permita repetir a operação.\n"
      ],
      "metadata": {
        "id": "UjOOgkxUPu_D"
      }
    },
    {
      "cell_type": "code",
      "source": [
        "while True:\n",
        "  try:\n",
        "    populacao_a = int(input('População A:'))\n",
        "    populacao_b = int(input('População B: '))\n",
        "    taxa_a = float(input('Taxa A: '))\n",
        "    taxa_b = float(input('Taxa B: '))\n",
        "    anos = 0\n",
        "  except: \n",
        "    print('Foi digitado um caractere, por favor digite apenas numeros.')\n",
        "    populacao_a = int(input('População A:'))\n",
        "    populacao_b = int(input('População B: '))\n",
        "    taxa_a = float(input('Taxa A: '))\n",
        "    taxa_b = float(input('Taxa B: '))\n",
        "    anos = 0\n",
        "  while populacao_a < populacao_b:\n",
        "    anos += 1\n",
        "    populacao_a = int(populacao_a * ((taxa_a * 0.01) + 1))\n",
        "    populacao_b *= ((taxa_b * 0.01) + 1)\n",
        "    populacao_b = int(populacao_b)\n",
        "  \n",
        "  print(f'### População no ano {anos} ###')\n",
        "  print(f'População A: {populacao_a}')\n",
        "  print(f'População B: {populacao_b}')\n",
        "  break # Usado apenas para parar o programa enquanto teste, na pratica este break não existiria"
      ],
      "metadata": {
        "colab": {
          "base_uri": "https://localhost:8080/"
        },
        "id": "fkZHA0AKP03S",
        "outputId": "72f77249-7896-4f43-c869-087982449a44"
      },
      "execution_count": null,
      "outputs": [
        {
          "output_type": "stream",
          "name": "stdout",
          "text": [
            "População A:fgds\n",
            "Foi digitado um caractere, por favor digite apenas numeros.\n",
            "População A:80000\n",
            "População B: 200000\n",
            "Taxa A: 3\n",
            "Taxa B: 1.5\n",
            "### População no ano 63 ###\n",
            "População A: 514954\n",
            "População B: 510908\n"
          ]
        }
      ]
    },
    {
      "cell_type": "markdown",
      "source": [
        "6 - Faça um programa que imprima na tela os números de 1 a 20, um abaixo do outro. Depois modifique o programa para que ele mostre os números um ao lado do outro.\n"
      ],
      "metadata": {
        "id": "d9G_Pj05hhj4"
      }
    },
    {
      "cell_type": "code",
      "source": [
        "for i in range(1,21):\n",
        "  print(i)\n",
        "\n",
        "print(list(range(1,21)))"
      ],
      "metadata": {
        "colab": {
          "base_uri": "https://localhost:8080/"
        },
        "id": "I2EV-47ViImM",
        "outputId": "3d09040e-32b8-4eee-f258-77eaf22e4a24"
      },
      "execution_count": null,
      "outputs": [
        {
          "output_type": "stream",
          "name": "stdout",
          "text": [
            "1\n",
            "2\n",
            "3\n",
            "4\n",
            "5\n",
            "6\n",
            "7\n",
            "8\n",
            "9\n",
            "10\n",
            "11\n",
            "12\n",
            "13\n",
            "14\n",
            "15\n",
            "16\n",
            "17\n",
            "18\n",
            "19\n",
            "20\n",
            "[1, 2, 3, 4, 5, 6, 7, 8, 9, 10, 11, 12, 13, 14, 15, 16, 17, 18, 19, 20]\n"
          ]
        }
      ]
    },
    {
      "cell_type": "markdown",
      "source": [
        "7 - Faça um programa que leia 5 números e informe o maior número.\n"
      ],
      "metadata": {
        "id": "UrgfAnmyj588"
      }
    },
    {
      "cell_type": "code",
      "source": [
        "maior = float(input('Digite um numero: '))\n",
        "\n",
        "for _ in range(5):\n",
        "  maior = max(maior, float(input('Digite um numero: ')))\n",
        "  print(f'O maior valor é: {maior}')"
      ],
      "metadata": {
        "colab": {
          "base_uri": "https://localhost:8080/"
        },
        "id": "Z-I4UC3rj90c",
        "outputId": "31e8d95a-6fa7-41c5-8fe3-afd2a011c886"
      },
      "execution_count": null,
      "outputs": [
        {
          "output_type": "stream",
          "name": "stdout",
          "text": [
            "Digite um numero: 3\n",
            "Digite um numero: 4\n",
            "O maior valor é: 4.0\n",
            "Digite um numero: 4\n",
            "O maior valor é: 4.0\n",
            "Digite um numero: 7\n",
            "O maior valor é: 7.0\n",
            "Digite um numero: 2\n",
            "O maior valor é: 7.0\n",
            "Digite um numero: 1\n",
            "O maior valor é: 7.0\n"
          ]
        }
      ]
    },
    {
      "cell_type": "markdown",
      "source": [
        "8 - Faça um programa que leia 5 números e informe a soma e a média dos números.\n"
      ],
      "metadata": {
        "id": "KtMg14Jtnv0y"
      }
    },
    {
      "cell_type": "code",
      "source": [
        "number = float(input('Digite um numero: '))\n",
        "\n",
        "for a in range(2, 5):\n",
        "  number += float(input('Digite outro numero: '))\n",
        "  media = number / a\n",
        "  print(f'A soma dos numeros é {number} e a média é {media}')"
      ],
      "metadata": {
        "colab": {
          "base_uri": "https://localhost:8080/"
        },
        "id": "wt9KdjZRnxIQ",
        "outputId": "fcf97a63-f8ef-41ae-fca4-567ac5a69cbd"
      },
      "execution_count": null,
      "outputs": [
        {
          "output_type": "stream",
          "name": "stdout",
          "text": [
            "Digite um numero: 93\n",
            "Digite outro numero: 34\n",
            "A soma dos numeros é 127.0 e a média é 63.5\n",
            "Digite outro numero: 5\n",
            "A soma dos numeros é 132.0 e a média é 44.0\n",
            "Digite outro numero: 8\n",
            "A soma dos numeros é 140.0 e a média é 35.0\n",
            "Digite outro numero: 3\n",
            "A soma dos numeros é 143.0 e a média é 28.6\n"
          ]
        }
      ]
    },
    {
      "cell_type": "markdown",
      "source": [
        "9 - Faça um programa que imprima na tela apenas os números ímpares entre 1 e 50.\n"
      ],
      "metadata": {
        "id": "7wBV6iVJriE5"
      }
    },
    {
      "cell_type": "code",
      "source": [
        "for i in range(1,51,2):\n",
        "    print (i)"
      ],
      "metadata": {
        "colab": {
          "base_uri": "https://localhost:8080/"
        },
        "id": "NMM0h3_BroZh",
        "outputId": "4ee3b421-078d-4799-f2bd-0b94b1b90b8a"
      },
      "execution_count": null,
      "outputs": [
        {
          "output_type": "stream",
          "name": "stdout",
          "text": [
            "1\n",
            "3\n",
            "5\n",
            "7\n",
            "9\n",
            "11\n",
            "13\n",
            "15\n",
            "17\n",
            "19\n",
            "21\n",
            "23\n",
            "25\n",
            "27\n",
            "29\n",
            "31\n",
            "33\n",
            "35\n",
            "37\n",
            "39\n",
            "41\n",
            "43\n",
            "45\n",
            "47\n",
            "49\n"
          ]
        }
      ]
    },
    {
      "cell_type": "markdown",
      "source": [
        "10 - Faça um programa que receba dois números inteiros e gere os números inteiros que estão no intervalo compreendido por eles.\n",
        "\n"
      ],
      "metadata": {
        "id": "QRjKueXQwW2K"
      }
    },
    {
      "cell_type": "code",
      "source": [
        "n1 = int(input('Digite um numero: '))\n",
        "n2 = int(input('Digite um numero: '))\n",
        "\n",
        "for o in range(n1, n2+1):\n",
        "  print(o)\n",
        "else:\n",
        "  for o in range(n1, n2-1, -1):\n",
        "    print(o)"
      ],
      "metadata": {
        "colab": {
          "base_uri": "https://localhost:8080/"
        },
        "id": "nk-ipupwwY5N",
        "outputId": "437d8725-88ac-4d1d-d183-e72eb5ec3bfd"
      },
      "execution_count": null,
      "outputs": [
        {
          "output_type": "stream",
          "name": "stdout",
          "text": [
            "Digite um numero: 5\n",
            "Digite um numero: 10\n",
            "5\n",
            "6\n",
            "7\n",
            "8\n",
            "9\n",
            "10\n"
          ]
        }
      ]
    },
    {
      "cell_type": "markdown",
      "source": [
        "11 - Altere o programa anterior para mostrar no final a soma dos números."
      ],
      "metadata": {
        "id": "9Ik7_3J4n-BB"
      }
    },
    {
      "cell_type": "code",
      "source": [
        "\n",
        "num1 = int(input('Digite um numero: '))\n",
        "num2 = int(input('Digite um numero: '))\n",
        "soma = 0\n",
        "\n",
        "for  v in range(num1, num2+1):\n",
        "  soma += v\n",
        "  print(v)\n",
        "else:\n",
        "  for v in range(num1, num2-1, -1):\n",
        "    soma += v\n",
        "    print(v)\n",
        "\n",
        "print(f'A soma é {soma}')\n",
        "\n"
      ],
      "metadata": {
        "colab": {
          "base_uri": "https://localhost:8080/"
        },
        "id": "AP4F_nIeoATv",
        "outputId": "3513d617-6b76-42ed-9594-947760141505"
      },
      "execution_count": null,
      "outputs": [
        {
          "output_type": "stream",
          "name": "stdout",
          "text": [
            "Digite um numero: 5\n",
            "Digite um numero: 10\n",
            "5\n",
            "6\n",
            "7\n",
            "8\n",
            "9\n",
            "10\n",
            "A soma é 45\n"
          ]
        }
      ]
    },
    {
      "cell_type": "markdown",
      "source": [
        "12 - Desenvolva um gerador de tabuada, capaz de gerar a tabuada de qualquer número inteiro entre 1 a 10. O usuário deve informar de qual numero ele deseja ver a tabuada. A saída deve ser conforme o exemplo abaixo:\n",
        "\n",
        "\n",
        "```\n",
        "Tabuada de 5:\n",
        "5 X 1 = 5\n",
        "5 X 2 = 10\n",
        "...\n",
        "5 X 10 = 50\n",
        "```\n",
        "\n"
      ],
      "metadata": {
        "id": "qy9lsPsjCL4T"
      }
    },
    {
      "cell_type": "code",
      "source": [
        "numero = int(input('Digite um numero de 0 a 10: '))\n",
        "\n",
        "print(f' ### TABUADA DO {numero} ###')\n",
        "\n",
        "for t in range(1, 11):\n",
        "  multiplicacao = numero * t\n",
        "  print(f'{numero} x {t} = {multiplicacao}')\n"
      ],
      "metadata": {
        "colab": {
          "base_uri": "https://localhost:8080/"
        },
        "id": "39WiLW2xCR82",
        "outputId": "2fb6bc0c-d45a-4275-fb3f-1cba04f82bfa"
      },
      "execution_count": null,
      "outputs": [
        {
          "output_type": "stream",
          "name": "stdout",
          "text": [
            "Digite um numero de 0 a 10: 6\n",
            " ### TABUADA DO 6 ###\n",
            "6 x 1 = 6\n",
            "6 x 2 = 12\n",
            "6 x 3 = 18\n",
            "6 x 4 = 24\n",
            "6 x 5 = 30\n",
            "6 x 6 = 36\n",
            "6 x 7 = 42\n",
            "6 x 8 = 48\n",
            "6 x 9 = 54\n",
            "6 x 10 = 60\n"
          ]
        }
      ]
    },
    {
      "cell_type": "markdown",
      "source": [
        "13 - Faça um programa que peça dois números, base e expoente, calcule e mostre o primeiro número elevado ao segundo número. Não utilize a função de potência da linguagem.\n"
      ],
      "metadata": {
        "id": "uN6klLlsGKzF"
      }
    },
    {
      "cell_type": "code",
      "source": [
        "a = int(input('Base: '))\n",
        "n = int(input('Expoente: '))\n",
        "potencia = 1\n",
        "\n",
        "for _ in range(1, n+1):\n",
        "  a\n",
        "  potencia *= a\n",
        "\n",
        "print(f'Potencia de {a} elevado a {n} é: {potencia}')"
      ],
      "metadata": {
        "colab": {
          "base_uri": "https://localhost:8080/"
        },
        "id": "BqkMrie5GTaX",
        "outputId": "c36661fd-21b6-4163-e32e-3c268226a3a4"
      },
      "execution_count": null,
      "outputs": [
        {
          "output_type": "stream",
          "name": "stdout",
          "text": [
            "Base: 2\n",
            "Expoente: 3\n",
            "Potencia de 2 elevado a 3 é: 8\n"
          ]
        }
      ]
    },
    {
      "cell_type": "markdown",
      "source": [
        "14 - Faça um programa que peça 10 números inteiros, calcule e mostre a quantidade de números pares e a quantidade de números impares.\n"
      ],
      "metadata": {
        "id": "h2mrDoJiOASY"
      }
    },
    {
      "cell_type": "code",
      "source": [
        "p = 0\n",
        "i = 0\n",
        "\n",
        "for _ in range(10):\n",
        "  n = int(input('Digite um numero: '))\n",
        "  if n % 2 ==0:\n",
        "    n = p\n",
        "    p += 1\n",
        "  else:\n",
        "    n = i\n",
        "    i += 1\n",
        "    \n",
        "print(f'A quantidade de numero pares é: {p}')\n",
        "print(f'A quantidade de numeros impares é: {i}')\n"
      ],
      "metadata": {
        "colab": {
          "base_uri": "https://localhost:8080/"
        },
        "id": "4tt6dA4hPW58",
        "outputId": "be73816f-0be3-47f5-c1a0-33d9c816b544"
      },
      "execution_count": null,
      "outputs": [
        {
          "output_type": "stream",
          "name": "stdout",
          "text": [
            "Digite um numero: 1\n",
            "Digite um numero: 2\n",
            "Digite um numero: 3\n",
            "Digite um numero: 4\n",
            "Digite um numero: 5\n",
            "Digite um numero: 6\n",
            "Digite um numero: 7\n",
            "Digite um numero: 8\n",
            "Digite um numero: 9\n",
            "Digite um numero: 10\n",
            "A quantidade de numero pares é: 5\n",
            "A quantidade de numeros impares é: 5\n"
          ]
        }
      ]
    },
    {
      "cell_type": "markdown",
      "source": [
        "15 - A série de Fibonacci é formada pela seqüência 1,1,2,3,5,8,13,21,34,55,... Faça um programa capaz de gerar a série até o n−ésimo termo.\n"
      ],
      "metadata": {
        "id": "7UU2-kR1Wpba"
      }
    },
    {
      "cell_type": "code",
      "source": [
        "nesimo = int(input(\"Que termo deseja encontrar: \"))\n",
        "ultimo = 1\n",
        "penultimo = 1\n",
        "\n",
        "print('''\n",
        "\n",
        "# Sequência Fibonacci: ''')\n",
        "print(f'{ultimo}, {penultimo}', end=\"\")\n",
        "\n",
        "if nesimo == 1 or nesimo == 2:\n",
        "    print('1')\n",
        "else:\n",
        "    for count in range(2, nesimo):\n",
        "        termo = ultimo + penultimo\n",
        "        print(f', {termo}', end =\"\")\n",
        "        penultimo = ultimo\n",
        "        ultimo = termo\n",
        "\n",
        "print(f'''\n",
        "\n",
        "Seu termo N é: {termo}\n",
        "    ''')"
      ],
      "metadata": {
        "colab": {
          "base_uri": "https://localhost:8080/"
        },
        "id": "71y-6q-cX6IY",
        "outputId": "ba24b1e2-41c9-4a39-cfbd-2c2bfc28c7c2"
      },
      "execution_count": null,
      "outputs": [
        {
          "output_type": "stream",
          "name": "stdout",
          "text": [
            "Que termo deseja encontrar: 6\n",
            "\n",
            "\n",
            "# Sequência Fibonacci: \n",
            "1, 1, 2, 3, 5, 8\n",
            "\n",
            "Seu termo N é: 8\n",
            "    \n"
          ]
        }
      ]
    },
    {
      "cell_type": "markdown",
      "source": [
        "16 - A série de Fibonacci é formada pela seqüência 0,1,1,2,3,5,8,13,21,34,55,... Faça um programa que gere a série até que o valor seja maior que 500.\n"
      ],
      "metadata": {
        "id": "2GQbBat4Vo23"
      }
    },
    {
      "cell_type": "code",
      "source": [
        "u = 1\n",
        "p = 1\n",
        "ter = 0\n",
        "\n",
        "print('''\n",
        "\n",
        "# Sequência Fibonacci: ''')\n",
        "print(f'{u}, {p}', end=\"\")\n",
        "\n",
        "while ter < 500:\n",
        "  ter = u + p\n",
        "  p = u \n",
        "  u = ter\n",
        "  print(f', {ter}', end =\"\")"
      ],
      "metadata": {
        "colab": {
          "base_uri": "https://localhost:8080/"
        },
        "id": "B_ZT8A1tVsJL",
        "outputId": "7a8e774a-445d-43fc-8e61-057ec4bfa5dc"
      },
      "execution_count": null,
      "outputs": [
        {
          "output_type": "stream",
          "name": "stdout",
          "text": [
            "\n",
            "\n",
            "# Sequência Fibonacci: \n",
            "1, 1, 2, 3, 5, 8, 13, 21, 34, 55, 89, 144, 233, 377, 610"
          ]
        }
      ]
    },
    {
      "cell_type": "markdown",
      "source": [
        "17 - Faça um programa que calcule o fatorial de um número inteiro fornecido pelo usuário. Ex.: 5!=5.4.3.2.1=120\n"
      ],
      "metadata": {
        "id": "FqjovjqeoLc6"
      }
    },
    {
      "cell_type": "code",
      "source": [
        "ni = int(input('Numero inteiro: '))\n",
        "\n",
        "re = 1\n",
        "for p in range(1, ni+1):\n",
        "  re *= p\n",
        "\n",
        "print(re)"
      ],
      "metadata": {
        "colab": {
          "base_uri": "https://localhost:8080/"
        },
        "id": "O4hdLrZ3oNfe",
        "outputId": "f6af7264-a22a-4328-9e31-5e754283e4be"
      },
      "execution_count": null,
      "outputs": [
        {
          "output_type": "stream",
          "name": "stdout",
          "text": [
            "Numero inteiro: 5\n",
            "1\n",
            "2\n",
            "6\n",
            "24\n",
            "120\n",
            "120\n"
          ]
        }
      ]
    },
    {
      "cell_type": "markdown",
      "source": [
        "18 - Faça um programa que, dado um conjunto de N números, determine o menor valor, o maior valor e a soma dos valores."
      ],
      "metadata": {
        "id": "-vga13x1sQJF"
      }
    },
    {
      "cell_type": "code",
      "source": [
        "soma = 0\n",
        "numere = []\n",
        "\n",
        "while True:\n",
        "  nom = int(input('Digite um numero: '))\n",
        "\n",
        "  if nom != 0:\n",
        "    soma += nom\n",
        "    numere.append(nom)\n",
        "  else: \n",
        "    break\n",
        "\n",
        "print(f'Soma: {soma}')\n",
        "print(f'Maior valor: ', max(numere))\n",
        "print(f'Menor valor: ', min(numere))"
      ],
      "metadata": {
        "colab": {
          "base_uri": "https://localhost:8080/"
        },
        "id": "XV2ROq7esU_S",
        "outputId": "2981c7f6-1c34-4a44-ec50-be8a1bd8235e"
      },
      "execution_count": null,
      "outputs": [
        {
          "output_type": "stream",
          "name": "stdout",
          "text": [
            "Digite um numero: 5\n",
            "Digite um numero: 7\n",
            "Digite um numero: 8\n",
            "Digite um numero: 12\n",
            "Digite um numero: 0\n",
            "Soma: 32\n",
            "Maior valor:  12\n",
            "Menor valor:  5\n"
          ]
        }
      ]
    },
    {
      "cell_type": "markdown",
      "source": [
        "19 - Altere o programa anterior para que ele aceite apenas números entre 0 e 1000.\n"
      ],
      "metadata": {
        "id": "3uZHfpBO0Jnb"
      }
    },
    {
      "cell_type": "code",
      "source": [
        "soma = 0\n",
        "numere = []\n",
        "\n",
        "while True:\n",
        "  nom = int(input('Digite um numero: '))\n",
        "\n",
        "  if nom > 0 and nom < 1000:\n",
        "    soma += nom\n",
        "    numere.append(nom)\n",
        "  else: \n",
        "    break\n",
        "\n",
        "print(f'Soma: {soma}')\n",
        "print(f'Maior valor: ', max(numere))\n",
        "print(f'Menor valor: ', min(numere))"
      ],
      "metadata": {
        "colab": {
          "base_uri": "https://localhost:8080/"
        },
        "id": "u9QC064s0O1H",
        "outputId": "12403525-e52b-457e-e050-0cc23505bc3a"
      },
      "execution_count": null,
      "outputs": [
        {
          "output_type": "stream",
          "name": "stdout",
          "text": [
            "Digite um numero: 6\n",
            "Digite um numero: 0\n",
            "Soma: 6\n",
            "Maior valor:  6\n",
            "Menor valor:  6\n"
          ]
        }
      ]
    },
    {
      "cell_type": "markdown",
      "source": [
        "20 - Altere o programa de cálculo do fatorial, permitindo ao usuário calcular o fatorial várias vezes e limitando o fatorial a números inteiros positivos e menores que 16.\n"
      ],
      "metadata": {
        "id": "lnc2BbDF1xO-"
      }
    },
    {
      "cell_type": "code",
      "source": [
        "res = 1\n",
        "\n",
        "while True:\n",
        "  ne = int(input('Numero inteiro: '))\n",
        "  if (ne < 0) or (ne > 16):\n",
        "    print('ERRO. Tente digitar um inteiro positivo e menor que 16!')\n",
        "  else:\n",
        "    for q in range(1, ne+1):\n",
        "      res *= q\n",
        "    print(f'O fator é: {res}')\n",
        "    break\n"
      ],
      "metadata": {
        "colab": {
          "base_uri": "https://localhost:8080/"
        },
        "id": "_b4JT2Cr1y61",
        "outputId": "0b82bdc6-36a3-4814-ca2b-6621f3f6b9c1"
      },
      "execution_count": null,
      "outputs": [
        {
          "output_type": "stream",
          "name": "stdout",
          "text": [
            "Numero inteiro: -1\n",
            "ERRO. Tente digitar um inteiro positivo e menor que 16!\n",
            "Numero inteiro: 17\n",
            "ERRO. Tente digitar um inteiro positivo e menor que 16!\n",
            "Numero inteiro: 5\n",
            "O fator é: 120\n"
          ]
        }
      ]
    },
    {
      "cell_type": "markdown",
      "source": [
        "21 - Faça um programa que peça um número inteiro e determine se ele é ou não um número primo. Um número primo é aquele que é divisível somente por ele mesmo e por 1.\n"
      ],
      "metadata": {
        "id": "u88AQH668PK4"
      }
    },
    {
      "cell_type": "code",
      "source": [
        "numero_inteiro = int(input('Digite um numero: '))\n",
        "primo = 0\n",
        "\n",
        "for c in range(1, numero_inteiro+1):\n",
        "  if numero_inteiro % c == 0:\n",
        "    primo +=1\n",
        "\n",
        "if primo != 2:\n",
        "  print('Não é um numero PRIMO.')\n",
        "else:\n",
        "  print('É um numero PRIMO')"
      ],
      "metadata": {
        "colab": {
          "base_uri": "https://localhost:8080/"
        },
        "id": "8L2tcSVE8kiU",
        "outputId": "f3b7b362-1d78-41da-cd03-1d0122eafdd3"
      },
      "execution_count": null,
      "outputs": [
        {
          "output_type": "stream",
          "name": "stdout",
          "text": [
            "Digite um numero: 4\n",
            "Não é um numero PRIMO.\n"
          ]
        }
      ]
    },
    {
      "cell_type": "markdown",
      "source": [
        "22 - Altere o programa de cálculo dos números primos, informando, caso o número não seja primo, por quais número ele é divisível.\n"
      ],
      "metadata": {
        "id": "qxpExVfUGAoS"
      }
    },
    {
      "cell_type": "code",
      "source": [
        "numero_inteiro = int(input('Digite um numero: '))\n",
        "contagem = 0\n",
        "\n",
        "print('Ele é divisivel por: ')\n",
        "\n",
        "for c in range(1, numero_inteiro+1):\n",
        "  if numero_inteiro % c == 0:\n",
        "    contagem +=1\n",
        "    print(f'{c} ', end=\"\")\n",
        "\n",
        "if contagem != 2:\n",
        "  print('''\n",
        "Não é um numero PRIMO.\n",
        "''')\n",
        "else:\n",
        "  print('''\n",
        "É um numero PRIMO\n",
        "''')"
      ],
      "metadata": {
        "colab": {
          "base_uri": "https://localhost:8080/"
        },
        "id": "5djjBGnXGC3L",
        "outputId": "b1ca45eb-c6e4-4618-d4d7-d7a1c0fd8eb0"
      },
      "execution_count": null,
      "outputs": [
        {
          "output_type": "stream",
          "name": "stdout",
          "text": [
            "Digite um numero: 13\n",
            "Ele é divisivel por: \n",
            "1 13 \n",
            "É um numero PRIMO\n",
            "\n"
          ]
        }
      ]
    },
    {
      "cell_type": "markdown",
      "source": [
        "23 - Faça um programa que mostre todos os primos entre 1 e N sendo N um número inteiro fornecido pelo usuário. O programa deverá mostrar também o número de divisões que ele executou para encontrar os números primos. Serão avaliados o funcionamento, o estilo e o número de testes (divisões) executados."
      ],
      "metadata": {
        "id": "3SbINVeZTrOv"
      }
    },
    {
      "cell_type": "code",
      "source": [
        "numero_n = int(input('Digite um numero: '))\n",
        "conta = 0\n",
        "primos = []\n",
        "\n",
        "for r in range(1, numero_n+1):\n",
        "  if r % 2 == 1 and r !=2:\n",
        "    primos.append(r)\n",
        "    conta += 1\n",
        "  else:\n",
        "    conta += 1\n",
        "\n",
        "print(f'Os numeros primos são: {primos}')\n",
        "print(f'O numero de divisões feitas foram: {conta}')"
      ],
      "metadata": {
        "colab": {
          "base_uri": "https://localhost:8080/"
        },
        "id": "4DQhjFd_TyF4",
        "outputId": "8d781c06-282e-4fad-89c7-0ee54389704d"
      },
      "execution_count": null,
      "outputs": [
        {
          "output_type": "stream",
          "name": "stdout",
          "text": [
            "Digite um numero: 13\n",
            "Os numeros primos são: [1, 3, 5, 7, 9, 11, 13]\n",
            "O numero de divisões feitas foram: 13\n"
          ]
        }
      ]
    },
    {
      "cell_type": "markdown",
      "source": [
        "24 - Faça um programa que calcule o mostre a média aritmética de N notas.\n"
      ],
      "metadata": {
        "id": "YbsN8O6n9VYL"
      }
    },
    {
      "cell_type": "code",
      "source": [
        "quantidade_s = 0\n",
        "number_s = []\n",
        "\n",
        "while True:\n",
        "  nota_s = float(input('Digite uma nota: '))\n",
        "  \n",
        "  if nota_s > 1:\n",
        "    number_s.append(nota_s)\n",
        "    quantidade_s +=1\n",
        "  elif nota_s == 0:\n",
        "    break\n",
        "  \n",
        "  soma_lista = sum(number_s)\n",
        "  media_s = soma_lista / quantidade_s\n",
        "\n",
        "print(f'A media dos valores é {media_s:.1f}')\n",
        "\n",
        "\n"
      ],
      "metadata": {
        "id": "aPqzzX8O-2Am",
        "colab": {
          "base_uri": "https://localhost:8080/"
        },
        "outputId": "a7ea45e8-02e6-47d3-d6ab-9243ac6ca189"
      },
      "execution_count": null,
      "outputs": [
        {
          "output_type": "stream",
          "name": "stdout",
          "text": [
            "Digite uma nota: 6\n",
            "Digite uma nota: 9\n",
            "Digite uma nota: 5\n",
            "Digite uma nota: 3\n",
            "Digite uma nota: 0\n",
            "A media dos valores é 5.8\n"
          ]
        }
      ]
    },
    {
      "cell_type": "markdown",
      "source": [
        "25- Faça um programa que peça para n pessoas a sua idade, ao final o programa devera verificar se a média de idade da turma varia entre 0 e 25,26 e 60 e maior que 60; e então, dizer se a turma é jovem, adulta ou idosa, conforme a média calculada."
      ],
      "metadata": {
        "id": "1qNVr65Afkif"
      }
    },
    {
      "cell_type": "code",
      "source": [
        "quantidade_pessoas = 0\n",
        "lista_pessoas = []\n",
        "\n",
        "while True:\n",
        "  idade_s = int(input('Digite sua idade: '))\n",
        "\n",
        "  if idade_s >= 0:\n",
        "    quantidade_pessoas += 1\n",
        "    lista_pessoas.append(idade_s)\n",
        "  \n",
        "  elif idade_s < 0:\n",
        "    break\n",
        "\n",
        "soma_pessoas = sum(lista_pessoas)\n",
        "media_de_idade = soma_pessoas / quantidade_pessoas\n",
        "\n",
        "if media_de_idade >= 0 and media_de_idade <= 25:\n",
        "  print(f'A media de idade da turma é {media_de_idade:.1f} e ela é JOVEM')\n",
        "elif media_de_idade >= 25 and media_de_idade <= 60:\n",
        "  print(f'A media de idade da turma é {media_de_idade:.1f} e ela é ADULTA')\n",
        "else:\n",
        "  print(f'A media de idade da turma é {media_de_idade:.1f} e ela é IDOSA')"
      ],
      "metadata": {
        "colab": {
          "base_uri": "https://localhost:8080/"
        },
        "id": "tJToLlw4fwUK",
        "outputId": "803d1c96-365f-476d-b521-2af9c6052385"
      },
      "execution_count": null,
      "outputs": [
        {
          "output_type": "stream",
          "name": "stdout",
          "text": [
            "Digite sua idade: 19\n",
            "Digite sua idade: 27\n",
            "Digite sua idade: 29\n",
            "Digite sua idade: 54\n",
            "Digite sua idade: 53\n",
            "Digite sua idade: 1\n",
            "Digite sua idade: -1\n",
            "A media de idade da turma é 30.5 e ela é ADULTA\n"
          ]
        }
      ]
    },
    {
      "cell_type": "markdown",
      "source": [
        "26 - Numa eleição existem três candidatos. Faça um programa que peça o número total de eleitores. Peça para cada eleitor votar e ao final mostrar o número de votos de cada candidato."
      ],
      "metadata": {
        "id": "OK9lMNcUMsC9"
      }
    },
    {
      "cell_type": "code",
      "source": [
        "candidato_um = 'Lula'\n",
        "votos_um = 0\n",
        "\n",
        "candidato_dois = 'Bolsonaro'\n",
        "votos_dois = 0\n",
        "\n",
        "candidato_tres = 'Ciro'\n",
        "votos_tres = 0\n",
        "\n",
        "while True:\n",
        "  votar = input('Em qual candidato você vai votar em 2022: ')\n",
        "\n",
        "  if votar == 'Lula':\n",
        "    votos_um += 1\n",
        "  elif votar ==  'Bolsonaro':\n",
        "    votos_dois += 1\n",
        "  elif votar == 'Ciro':\n",
        "    votos_tres += 1\n",
        "  else:\n",
        "    break\n",
        "\n",
        "print(f'''\n",
        "#### RESULTADO ELEIÇÃO #####\n",
        "\n",
        "Lula: {votos_um} votos\n",
        "Bolsonaro: {votos_dois} votos\n",
        "Ciro: {votos_tres} votos\n",
        "\n",
        " ''') \n"
      ],
      "metadata": {
        "colab": {
          "base_uri": "https://localhost:8080/"
        },
        "id": "PG7TbLJSM_b5",
        "outputId": "e9abb4ba-6abd-4eff-ad3f-eb32efedbdbc"
      },
      "execution_count": null,
      "outputs": [
        {
          "output_type": "stream",
          "name": "stdout",
          "text": [
            "Em qual candidato você vai votar em 2022: Lula\n",
            "Em qual candidato você vai votar em 2022: Lula\n",
            "Em qual candidato você vai votar em 2022: Lula\n",
            "Em qual candidato você vai votar em 2022: Ciro\n",
            "Em qual candidato você vai votar em 2022: Ciro\n",
            "Em qual candidato você vai votar em 2022: Ciro\n",
            "Em qual candidato você vai votar em 2022: Ciro\n",
            "Em qual candidato você vai votar em 2022: Ciro\n",
            "Em qual candidato você vai votar em 2022: Bolsonaro\n",
            "Em qual candidato você vai votar em 2022: Bolsonaro\n",
            "Em qual candidato você vai votar em 2022: Bolsonaro\n",
            "Em qual candidato você vai votar em 2022: Marina\n",
            "\n",
            "#### RESULTADO ELEIÇÃO #####\n",
            "\n",
            "Lula: 3 votos\n",
            "Bolsonaro: 3 votos\n",
            "Ciro: 5 votos\n",
            "\n",
            " \n"
          ]
        }
      ]
    },
    {
      "cell_type": "markdown",
      "source": [
        "27 - Faça um programa que calcule o número médio de alunos por turma. Para isto, peça a quantidade de turmas e a quantidade de alunos para cada turma. As turmas não podem ter mais de 40 alunos."
      ],
      "metadata": {
        "id": "vEYrfj5OrDJf"
      }
    },
    {
      "cell_type": "code",
      "source": [
        "quantidade_turmas = int(input('Digite a quantidade de turmas: '))\n",
        "qtd_alunos = []\n",
        "\n",
        "for _ in range(1, quantidade_turmas+1):\n",
        "  quantidade_alunos = int(input('Digite a quantidade de alunos: '))\n",
        "  qtd_alunos.append(quantidade_alunos)\n",
        "\n",
        "  if quantidade_alunos >= 40:\n",
        "    print('Numero máximo de alunos por turma é 40')\n",
        "    break\n",
        "\n",
        "soma_alunos = sum(qtd_alunos)\n",
        "media_alunos = soma_alunos / quantidade_turmas\n",
        "\n",
        "\n",
        "print(f'A quantidadade média de ALUNOS por TURMA é: {int(media_alunos)}')"
      ],
      "metadata": {
        "colab": {
          "base_uri": "https://localhost:8080/"
        },
        "id": "5vAZ1SktrMjc",
        "outputId": "e028e979-a827-455f-da9d-3c519db8e480"
      },
      "execution_count": null,
      "outputs": [
        {
          "output_type": "stream",
          "name": "stdout",
          "text": [
            "Digite a quantidade de turmas: 3\n",
            "Digite a quantidade de alunos: 24\n",
            "Digite a quantidade de alunos: 23\n",
            "Digite a quantidade de alunos: 22\n",
            "A quantdidade média de ALUNOS por TURMA é: 23\n"
          ]
        }
      ]
    },
    {
      "cell_type": "markdown",
      "source": [
        "28 - Faça um programa que calcule o valor total investido por um colecionador em sua coleção de CDs e o valor médio gasto em cada um deles. O usuário deverá informar a quantidade de CDs e o valor para em cada um."
      ],
      "metadata": {
        "id": "aXHyM5kevcCP"
      }
    },
    {
      "cell_type": "code",
      "source": [
        "quantidade_cds = int(input('Digite a quantidade de CDs: ' ))\n",
        "valor_gast = []\n",
        "\n",
        "for _ in range(1, quantidade_cds+1):\n",
        "  valor_cds = float(input('Valor pago em cada CD: '))\n",
        "  valor_gast.append(valor_cds)\n",
        "\n",
        "total_investido = sum(valor_gast)\n",
        "valor_medio = total_investido / valor_cds\n",
        "\n",
        "print(f'''\n",
        "Valor total investido: R$ {total_investido:.2f}\n",
        "Valor médio gasto em cada CD é: R$ {valor_medio:.2f}\n",
        "''')"
      ],
      "metadata": {
        "colab": {
          "base_uri": "https://localhost:8080/"
        },
        "id": "oHr1dB4YvkdT",
        "outputId": "a0943036-6be8-4bed-9d71-208ddd13503c"
      },
      "execution_count": null,
      "outputs": [
        {
          "output_type": "stream",
          "name": "stdout",
          "text": [
            "Digite a quantidade de CDs: 4\n",
            "Valor pago em cada CD: 19.90\n",
            "Valor pago em cada CD: 8.99\n",
            "Valor pago em cada CD: 1.99\n",
            "Valor pago em cada CD: 5.00\n",
            "\n",
            "Valor total investido: 35.88\n",
            "Valor médio gasto em cada CD é: 7.18\n",
            "\n"
          ]
        }
      ]
    },
    {
      "cell_type": "markdown",
      "source": [
        "29 - O Sr. Manoel Joaquim possui uma grande loja de artigos de R$ 1,99, com cerca de 10 caixas. Para agilizar o cálculo de quanto cada cliente deve pagar ele desenvolveu um tabela que contém o número de itens que o cliente comprou e ao lado o valor da conta. Desta forma a atendente do caixa precisa apenas contar quantos itens o cliente está levando e olhar na tabela de preços. Você foi contratado para desenvolver o programa que monta esta tabela de preços, que conterá os preços de 1 até 50 produtos, conforme o exemplo abaixo:\n",
        "\n",
        "\n",
        "```\n",
        "Lojas Quase Dois - Tabela de preços\n",
        "1 - R$ 1.99\n",
        "2 - R$ 3.98\n",
        "...\n",
        "50 - R$ 99.50\n",
        "\n",
        "```\n",
        "\n"
      ],
      "metadata": {
        "id": "skaSqQ2hzvhg"
      }
    },
    {
      "cell_type": "code",
      "source": [
        "print('Lojas Quase Dois - Tabela de preços')\n",
        "\n",
        "valor_produtos = 1.99\n",
        "x = 0 \n",
        "\n",
        "while x < 50:\n",
        "  x += 1\n",
        "  print(f'{x} - R$ {valor_produtos * x:.2f}')"
      ],
      "metadata": {
        "colab": {
          "base_uri": "https://localhost:8080/"
        },
        "id": "3-iHzPr9z7fz",
        "outputId": "0b3b33a2-6d83-4ced-985d-bb44295c9bc8"
      },
      "execution_count": null,
      "outputs": [
        {
          "output_type": "stream",
          "name": "stdout",
          "text": [
            "Lojas Quase Dois - Tabela de preços\n",
            "1 - R$ 1.99\n",
            "2 - R$ 3.98\n",
            "3 - R$ 5.97\n",
            "4 - R$ 7.96\n",
            "5 - R$ 9.95\n",
            "6 - R$ 11.94\n",
            "7 - R$ 13.93\n",
            "8 - R$ 15.92\n",
            "9 - R$ 17.91\n",
            "10 - R$ 19.90\n",
            "11 - R$ 21.89\n",
            "12 - R$ 23.88\n",
            "13 - R$ 25.87\n",
            "14 - R$ 27.86\n",
            "15 - R$ 29.85\n",
            "16 - R$ 31.84\n",
            "17 - R$ 33.83\n",
            "18 - R$ 35.82\n",
            "19 - R$ 37.81\n",
            "20 - R$ 39.80\n",
            "21 - R$ 41.79\n",
            "22 - R$ 43.78\n",
            "23 - R$ 45.77\n",
            "24 - R$ 47.76\n",
            "25 - R$ 49.75\n",
            "26 - R$ 51.74\n",
            "27 - R$ 53.73\n",
            "28 - R$ 55.72\n",
            "29 - R$ 57.71\n",
            "30 - R$ 59.70\n",
            "31 - R$ 61.69\n",
            "32 - R$ 63.68\n",
            "33 - R$ 65.67\n",
            "34 - R$ 67.66\n",
            "35 - R$ 69.65\n",
            "36 - R$ 71.64\n",
            "37 - R$ 73.63\n",
            "38 - R$ 75.62\n",
            "39 - R$ 77.61\n",
            "40 - R$ 79.60\n",
            "41 - R$ 81.59\n",
            "42 - R$ 83.58\n",
            "43 - R$ 85.57\n",
            "44 - R$ 87.56\n",
            "45 - R$ 89.55\n",
            "46 - R$ 91.54\n",
            "47 - R$ 93.53\n",
            "48 - R$ 95.52\n",
            "49 - R$ 97.51\n",
            "50 - R$ 99.50\n"
          ]
        }
      ]
    },
    {
      "cell_type": "markdown",
      "source": [
        "30 - O Sr. Manoel Joaquim acaba de adquirir uma panificadora e pretende implantar a metodologia da tabelinha, que já é um sucesso na sua loja de 1,99. Você foi contratado para desenvolver o programa que monta a tabela de preços de pães, de 1 até 50 pães, a partir do preço do pão informado pelo usuário, conforme o exemplo abaixo:\n",
        "\n",
        "\n",
        "```\n",
        "Preço do pão: R$ 0.18\n",
        "Panificadora Pão de Ontem - Tabela de preços\n",
        "1 - R$ 0.18\n",
        "2 - R$ 0.36\n",
        "...\n",
        "50 - R$ 9.00\n",
        "```\n",
        "\n"
      ],
      "metadata": {
        "id": "5558Cw8BvVay"
      }
    },
    {
      "cell_type": "code",
      "source": [
        "print('Panificadora Pão de Ontem - Tabela de preços')\n",
        "\n",
        "valor_pao = 0.18\n",
        "z = 0 \n",
        "\n",
        "while z < 50:\n",
        "  z += 1\n",
        "  print(f'{z} - R$ {valor_pao * z:.2f}')"
      ],
      "metadata": {
        "colab": {
          "base_uri": "https://localhost:8080/"
        },
        "id": "cAVx2V8BVLWY",
        "outputId": "51cbf37c-5db6-4ef4-a4b1-c829e18760fd"
      },
      "execution_count": null,
      "outputs": [
        {
          "output_type": "stream",
          "name": "stdout",
          "text": [
            "Panificadora Pão de Ontem - Tabela de preços\n",
            "1 - R$ 0.18\n",
            "2 - R$ 0.36\n",
            "3 - R$ 0.54\n",
            "4 - R$ 0.72\n",
            "5 - R$ 0.90\n",
            "6 - R$ 1.08\n",
            "7 - R$ 1.26\n",
            "8 - R$ 1.44\n",
            "9 - R$ 1.62\n",
            "10 - R$ 1.80\n",
            "11 - R$ 1.98\n",
            "12 - R$ 2.16\n",
            "13 - R$ 2.34\n",
            "14 - R$ 2.52\n",
            "15 - R$ 2.70\n",
            "16 - R$ 2.88\n",
            "17 - R$ 3.06\n",
            "18 - R$ 3.24\n",
            "19 - R$ 3.42\n",
            "20 - R$ 3.60\n",
            "21 - R$ 3.78\n",
            "22 - R$ 3.96\n",
            "23 - R$ 4.14\n",
            "24 - R$ 4.32\n",
            "25 - R$ 4.50\n",
            "26 - R$ 4.68\n",
            "27 - R$ 4.86\n",
            "28 - R$ 5.04\n",
            "29 - R$ 5.22\n",
            "30 - R$ 5.40\n",
            "31 - R$ 5.58\n",
            "32 - R$ 5.76\n",
            "33 - R$ 5.94\n",
            "34 - R$ 6.12\n",
            "35 - R$ 6.30\n",
            "36 - R$ 6.48\n",
            "37 - R$ 6.66\n",
            "38 - R$ 6.84\n",
            "39 - R$ 7.02\n",
            "40 - R$ 7.20\n",
            "41 - R$ 7.38\n",
            "42 - R$ 7.56\n",
            "43 - R$ 7.74\n",
            "44 - R$ 7.92\n",
            "45 - R$ 8.10\n",
            "46 - R$ 8.28\n",
            "47 - R$ 8.46\n",
            "48 - R$ 8.64\n",
            "49 - R$ 8.82\n",
            "50 - R$ 9.00\n"
          ]
        }
      ]
    },
    {
      "cell_type": "markdown",
      "source": [
        "31 - O Sr. Manoel Joaquim expandiu seus negócios para além dos negócios de 1,99 e agora possui uma loja de conveniências. Faça um programa que implemente uma caixa registradora rudimentar. O programa deverá receber um número desconhecido de valores referentes aos preços das mercadorias. Um valor zero deve ser informado pelo operador para indicar o final da compra. O programa deve então mostrar o total da compra e perguntar o valor em dinheiro que o cliente forneceu, para então calcular e mostrar o valor do troco. Após esta operação, o programa deverá voltar ao ponto inicial, para registrar a próxima compra. A saída deve ser conforme o exemplo abaixo:\n",
        "\n",
        "```\n",
        "Lojas Tabajara \n",
        "Produto 1: R$ 2.20\n",
        "Produto 2: R$ 5.80\n",
        "Produto 3: R$ 0\n",
        "Total: R$ 9.00\n",
        "Dinheiro: R$ 20.00\n",
        "Troco: R$ 11.00\n",
        "'''\n",
        "```\n",
        "\n"
      ],
      "metadata": {
        "id": "1CwFa2DGWTuI"
      }
    },
    {
      "cell_type": "code",
      "source": [
        "while True:\n",
        "  produto = 0 \n",
        "  soma_produtos = []\n",
        "  \n",
        "  while True:\n",
        "    produto += 1\n",
        "    preco = float(input(f'Produto {produto}: R$ '))\n",
        "    soma_produtos.append(preco)\n",
        "    if preco == 0:\n",
        "      break \n",
        "\n",
        "\n",
        "  total_produtos = sum(soma_produtos)\n",
        "  print(f'Total: R$ {total_produtos:.2f}')\n",
        "   \n",
        "  pagamento = float(input('Dinheiro: R$ '))\n",
        "  \n",
        "  troco = pagamento - total_produtos\n",
        "  \n",
        "  print(f'Troco: R$ {troco:.2f}')\n",
        "\n",
        "  reset = input('Pressione 0 para encerrar, ou 1 para continuar: ')\n",
        "  if reset == '0':\n",
        "    print(\"Encerrando caixa...\")\n",
        "    break\n",
        "  elif reset == '1':\n",
        "    continue"
      ],
      "metadata": {
        "colab": {
          "base_uri": "https://localhost:8080/"
        },
        "id": "jbcJiYxmWeUS",
        "outputId": "abc00aea-a431-4f84-d8fe-d0c45567ab7b"
      },
      "execution_count": null,
      "outputs": [
        {
          "output_type": "stream",
          "name": "stdout",
          "text": [
            "Produto 1: R$ 50\n",
            "Produto 2: R$ 60\n",
            "Produto 3: R$ 90\n",
            "Produto 4: R$ 0\n",
            "Total: R$ 200.00\n",
            "Dinheiro: R$ 300\n",
            "Troco: R$ 100.00\n",
            "Pressione 0 para encerrar, ou 1 para continuar: 1\n",
            "Produto 1: R$ 50\n",
            "Produto 2: R$ 90\n",
            "Produto 3: R$ 10\n",
            "Produto 4: R$ 00\n",
            "Total: R$ 150.00\n",
            "Dinheiro: R$ 200\n",
            "Troco: R$ 50.00\n",
            "Pressione 0 para encerrar, ou 1 para continuar: 0\n",
            "Encerrando caixa...\n"
          ]
        }
      ]
    },
    {
      "cell_type": "markdown",
      "source": [
        "32 - Faça um programa que calcule o fatorial de um número inteiro fornecido pelo usuário. Ex.: 5!=5.4.3.2.1=120. A saída deve ser conforme o exemplo abaixo:\n",
        "\n",
        "\n",
        "```\n",
        "Fatorial de: 5\n",
        "5! =  5 . 4 . 3 . 2 . 1 = 120\n",
        "```\n",
        "\n"
      ],
      "metadata": {
        "id": "Cdjxe8Kx9EpQ"
      }
    },
    {
      "cell_type": "code",
      "source": [
        "fatorial = int(input('Fatorial de: '))\n",
        "\n",
        "x = 1\n",
        "\n",
        "print(f'{fatorial}! = ', end='')\n",
        "\n",
        "for y in range(fatorial, 0, -1):\n",
        "  x *= y\n",
        "  print(f'{y}', end='')\n",
        "  print(' . ' if y > 1 else ' = ', end='' )\n",
        "\n",
        "\n",
        "print(f'{x}')"
      ],
      "metadata": {
        "colab": {
          "base_uri": "https://localhost:8080/"
        },
        "id": "Db5AVsxC9Mbv",
        "outputId": "8ff2c597-feef-4127-b897-7b9b4f994c2a"
      },
      "execution_count": null,
      "outputs": [
        {
          "output_type": "stream",
          "name": "stdout",
          "text": [
            "Fatorial de: 5\n",
            "5! = 5 . 4 . 3 . 2 . 1 = 120\n"
          ]
        }
      ]
    },
    {
      "cell_type": "markdown",
      "source": [
        "33 - O Departamento Estadual de Meteorologia lhe contratou para desenvolver um programa que leia as um conjunto indeterminado de temperaturas, e informe ao final a menor e a maior temperaturas informadas, bem como a média das temperaturas."
      ],
      "metadata": {
        "id": "pSs-_po9eBkn"
      }
    },
    {
      "cell_type": "code",
      "source": [
        "listinha_temperaturas = []\n",
        "contador = 0\n",
        "\n",
        "while True:\n",
        "  temperatura = int(input('Temperatura: '))\n",
        "  if temperatura < -5:\n",
        "    break\n",
        "  \n",
        "  contador += 1\n",
        "  listinha_temperaturas.append(temperatura) \n",
        "  temperatura_max = max(listinha_temperaturas)\n",
        "  temperatura_min = min(listinha_temperaturas)\n",
        "\n",
        "  media_temperatura = sum(listinha_temperaturas) / contador\n",
        "  \n",
        "print(f\"A menor temperatura: {temperatura_min}°C\")\n",
        "print(f\"A maior temperatura: {temperatura_max}°C\")\n",
        "print(f\"A média das temperaturas: {media_temperatura:.1f}°C\")"
      ],
      "metadata": {
        "id": "Vbo7mf5BeFHd",
        "colab": {
          "base_uri": "https://localhost:8080/"
        },
        "outputId": "f09a1b7f-c238-41e3-8924-20f39131bd02"
      },
      "execution_count": null,
      "outputs": [
        {
          "output_type": "stream",
          "name": "stdout",
          "text": [
            "Temperatura: 6\n",
            "Temperatura: 9\n",
            "Temperatura: 5\n",
            "Temperatura: -7\n",
            "A menor temperatura: 5°C\n",
            "A maior temperatura: 9°C\n",
            "A média das temperaturas: 6.7°C\n"
          ]
        }
      ]
    },
    {
      "cell_type": "markdown",
      "source": [
        "34 - Os números primos possuem várias aplicações dentro da Computação, por exemplo na Criptografia. Um número primo é aquele que é divisível apenas por um e por ele mesmo. Faça um programa que peça um número inteiro e determine se ele é ou não um número primo.\n"
      ],
      "metadata": {
        "id": "BHbyiaNweG_b"
      }
    },
    {
      "cell_type": "code",
      "source": [
        "num_inteiro = int(input('Digite um numero: '))\n",
        "contagem_primo = 0\n",
        "\n",
        "for x in range(1, num_inteiro+1):\n",
        "  if num_inteiro % x == 0:\n",
        "    contagem_primo += 1\n",
        "\n",
        "if contagem_primo != 2:\n",
        "  print(f'O número {num_inteiro} NÃO é PRIMO!')\n",
        "else:\n",
        "  print(f'O número {num_inteiro} É PRIMO! :)')"
      ],
      "metadata": {
        "colab": {
          "base_uri": "https://localhost:8080/"
        },
        "id": "n9apeFareLTh",
        "outputId": "0eb33dbb-ba94-4ea6-b916-d5714343b1f4"
      },
      "execution_count": null,
      "outputs": [
        {
          "output_type": "stream",
          "name": "stdout",
          "text": [
            "Digite um numero: 3\n",
            "O número 3 É PRIMO! :)\n"
          ]
        }
      ]
    },
    {
      "cell_type": "markdown",
      "source": [
        "35 - Encontrar números primos é uma tarefa difícil. Faça um programa que gera uma lista dos números primos existentes entre 1 e um número inteiro informado pelo usuário.\n"
      ],
      "metadata": {
        "id": "bncCTQamkR58"
      }
    },
    {
      "cell_type": "code",
      "source": [
        "nom_inteiro = int(input('Digite um numero: '))\n",
        "lista_primos = []\n",
        "\n",
        "for x in range(1, nom_inteiro+1):\n",
        "  if x % 2 == 1 and x != 2:\n",
        "    lista_primos.append(x)\n",
        "\n",
        "print(f'''Números primos existentes entre 1 e {nom_inteiro}:\n",
        "{lista_primos}\n",
        "''')"
      ],
      "metadata": {
        "colab": {
          "base_uri": "https://localhost:8080/"
        },
        "id": "uYb2rUh7lAz6",
        "outputId": "3055fa7a-9688-4e34-ff1f-39e06983608e"
      },
      "execution_count": null,
      "outputs": [
        {
          "output_type": "stream",
          "name": "stdout",
          "text": [
            "Digite um numero: 10\n",
            "Números primos existentes entre 1 e 10:\n",
            "[1, 3, 5, 7, 9]\n",
            "\n"
          ]
        }
      ]
    },
    {
      "cell_type": "markdown",
      "source": [
        "36 - Desenvolva um programa que faça a tabuada de um número qualquer inteiro que será digitado pelo usuário, mas a tabuada não deve necessariamente iniciar em 1 e terminar em 10, o valor inicial e final devem ser informados também pelo usuário, conforme exemplo abaixo:\n",
        "\n",
        "```\n",
        "\n",
        "Montar a tabuada de: 5\n",
        "Começar por: 4\n",
        "Terminar em: 7\n",
        "\n",
        "Vou montar a tabuada de 5 começando em 4 e terminando em 7:\n",
        "5 X 4 = 20\n",
        "5 X 5 = 25\n",
        "5 X 6 = 30\n",
        "5 X 7 = 35\n",
        "\n",
        "```\n",
        "\n"
      ],
      "metadata": {
        "id": "PPSFVPcG47ty"
      }
    },
    {
      "cell_type": "code",
      "source": [
        "numero_um = int(input('Montar a tabuada de: '))\n",
        "numero_dois = int(input('Começar por: '))\n",
        "numero_tres = int(input('Terminar em: '))\n",
        "\n",
        "print(f'Vou montar a tabuada de {numero_um} começando em {numero_dois} e terminando em {numero_tres}: ')\n",
        "\n",
        "for w in range(numero_dois, numero_tres+1):\n",
        "  multiplicacao = numero_um * w\n",
        "  print(f'{numero_um} x {w} = {multiplicacao}')"
      ],
      "metadata": {
        "colab": {
          "base_uri": "https://localhost:8080/"
        },
        "id": "OWNTK6e75Uf8",
        "outputId": "c2b97223-37cb-4fee-cc45-646b793b5fc3"
      },
      "execution_count": null,
      "outputs": [
        {
          "output_type": "stream",
          "name": "stdout",
          "text": [
            "Montar a tabuada de: 5\n",
            "Começar por: 4\n",
            "Terminar em: 7\n",
            "Vou montar a tabuada de 5 começando em 4 e terminando em 7: \n",
            "5 x 4 = 20\n",
            "5 x 5 = 25\n",
            "5 x 6 = 30\n",
            "5 x 7 = 35\n"
          ]
        }
      ]
    },
    {
      "cell_type": "markdown",
      "source": [
        "37 - Uma academia deseja fazer um senso entre seus clientes para descobrir o mais alto, o mais baixo, a mais gordo e o mais magro, para isto você deve fazer um programa que pergunte a cada um dos clientes da academia seu código, sua altura e seu peso. O final da digitação de dados deve ser dada quando o usuário digitar 0 (zero) no campo código. Ao encerrar o programa também deve ser informados os códigos e valores do clente mais alto, do mais baixo, do mais gordo e do mais magro, além da média das alturas e dos pesos dos clientes\n"
      ],
      "metadata": {
        "id": "fJ1JvGWBdIft"
      }
    },
    {
      "cell_type": "code",
      "source": [
        "cliente = 0\n",
        "mais_gordo = 0\n",
        "mais_magro = 1000\n",
        "mais_alto = 0\n",
        "mais_baixo = 500\n",
        "codigo_gordo = 0\n",
        "codigo_magro = 0 \n",
        "codigo_maior = 0\n",
        "codigo_menor = 0\n",
        "lista_altura = []\n",
        "lista_peso = []\n",
        "\n",
        "while True:\n",
        "  codigo = int(input('Digite seu código: '))\n",
        "  if codigo ==  0:\n",
        "    break\n",
        "  \n",
        "  altura = int(input('Sua altura: '))\n",
        "  peso = int(input('Seu peso: '))\n",
        "  cliente += 1\n",
        "\n",
        "  lista_altura.append(altura)\n",
        "  lista_peso.append(peso)\n",
        "\n",
        "  if altura > mais_alto:\n",
        "    mais_alto = altura\n",
        "    codigo_maior = codigo\n",
        "\n",
        "  if altura < mais_baixo:\n",
        "    mais_baixo = altura\n",
        "    codigo_menor = codigo\n",
        "    \n",
        "  if peso > mais_gordo:\n",
        "    mais_gordo = peso\n",
        "    codigo_gordo = codigo\n",
        "\n",
        "  if peso < mais_magro:\n",
        "    mais_magro = peso\n",
        "    codigo_magro = codigo\n",
        "\n",
        "\n",
        "media_altura = sum(lista_altura) / cliente\n",
        "media_peso = sum(lista_peso) / cliente\n",
        "\n",
        "print(\n",
        "    f\"O cliente mais alto é o que tem o código {codigo_maior}\"\n",
        "    f\" e ele possui {mais_alto}cm de altura\\n\"\n",
        "    f\"O cliente mais baixo é o que tem o código {codigo_menor}\"\n",
        "    f\" e ele possui {mais_baixo}cm de altura\\n\"\n",
        "    f\"O cliente mais gordo é o que tem o código {codigo_gordo}\"\n",
        "    f\" e ele pesa {mais_gordo:.2f}kg\\n\"\n",
        "    f\"O cliente mais magro é o que tem o código {codigo_magro}\"\n",
        "    f\" e ele pesa {mais_magro:.2f}kg\\n\"\n",
        "    f\"A média de altura dos clientes é de {media_altura:.2f}cm\\n\"\n",
        "    f\"A média de peso dos clientes é de {media_peso:.2f}kg\"\n",
        ")"
      ],
      "metadata": {
        "colab": {
          "base_uri": "https://localhost:8080/"
        },
        "id": "Yb8m1ETpdJ46",
        "outputId": "f20d767d-b1c8-4ad4-aed0-ae97c3859134"
      },
      "execution_count": null,
      "outputs": [
        {
          "output_type": "stream",
          "name": "stdout",
          "text": [
            "Digite seu código: 1\n",
            "Sua altura: 170\n",
            "Seu peso: 55\n",
            "Digite seu código: 0\n",
            "O cliente mais alto é o que tem o código 1 e ele possui 170cm de altura\n",
            "O cliente mais baixo é o que tem o código 1 e ele possui 170cm de altura\n",
            "O cliente mais gordo é o que tem o código 1 e ele pesa 55.00kg\n",
            "O cliente mais magro é o que tem o código 1 e ele pesa 55.00kg\n",
            "A média de altura dos clientes é de 170.00cm\n",
            "A média de peso dos clientes é de 55.00kg\n"
          ]
        }
      ]
    },
    {
      "cell_type": "markdown",
      "source": [
        "38 - Um funcionário de uma empresa recebe aumento salarial anualmente: Sabe-se que:\n",
        "\n",
        "\n",
        "a ) Esse funcionário foi contratado em 1995, com salário inicial de R$ 1.000,00;\n",
        "\n",
        "\n",
        "\n",
        "b ) Em 1996 recebeu aumento de 1,5% sobre seu salário inicial;\n",
        "\n",
        "\n",
        "\n",
        "c ) A partir de 1997 (inclusive), os aumentos salariais sempre correspondem ao dobro do percentual do ano anterior. Faça um programa que determine o salário atual desse funcionário. Após concluir isto, altere o programa permitindo que o usuário digite o salário inicial do funcionário.\n",
        "\n"
      ],
      "metadata": {
        "id": "r94DMn45Cle4"
      }
    },
    {
      "cell_type": "code",
      "source": [
        "salario_inicial = float(input('Salário inicial: '))\n",
        "ano = 1995 \n",
        "print(f'Ano: {ano}')\n",
        "\n",
        "while ano < 2022:\n",
        "  ano += 1\n",
        "\n",
        "  if ano == 1996:\n",
        "    aumento_porcentual = 0.015\n",
        "    aumento_real = 1000 * aumento_porcentual\n",
        "    salario_atual = salario_inicial + aumento_real\n",
        "  else: \n",
        "    # aumento_percentual = 0.03\n",
        "    # aumento_real = 1000  * aumento_percentual \n",
        "    # salario_atual += aumento_real\n",
        "    aumento_real = salario_atual * 0.03\n",
        "    salario_atual += aumento_real\n",
        "    \n",
        "    print(f''' \n",
        "Ano: {ano}\n",
        "Salario Atual: R$ {salario_atual:.2f}''')\n"
      ],
      "metadata": {
        "colab": {
          "base_uri": "https://localhost:8080/"
        },
        "id": "oo8IGp68C2MK",
        "outputId": "83725729-904f-4a2e-866e-aac8e45b3271"
      },
      "execution_count": null,
      "outputs": [
        {
          "output_type": "stream",
          "name": "stdout",
          "text": [
            "Salário inicial: 1000\n",
            "Ano: 1995\n",
            " \n",
            "Ano: 1997\n",
            "Salario Atual: R$ 1045.45\n",
            " \n",
            "Ano: 1998\n",
            "Salario Atual: R$ 1076.81\n",
            " \n",
            "Ano: 1999\n",
            "Salario Atual: R$ 1109.12\n",
            " \n",
            "Ano: 2000\n",
            "Salario Atual: R$ 1142.39\n",
            " \n",
            "Ano: 2001\n",
            "Salario Atual: R$ 1176.66\n",
            " \n",
            "Ano: 2002\n",
            "Salario Atual: R$ 1211.96\n",
            " \n",
            "Ano: 2003\n",
            "Salario Atual: R$ 1248.32\n",
            " \n",
            "Ano: 2004\n",
            "Salario Atual: R$ 1285.77\n",
            " \n",
            "Ano: 2005\n",
            "Salario Atual: R$ 1324.34\n",
            " \n",
            "Ano: 2006\n",
            "Salario Atual: R$ 1364.08\n",
            " \n",
            "Ano: 2007\n",
            "Salario Atual: R$ 1405.00\n",
            " \n",
            "Ano: 2008\n",
            "Salario Atual: R$ 1447.15\n",
            " \n",
            "Ano: 2009\n",
            "Salario Atual: R$ 1490.56\n",
            " \n",
            "Ano: 2010\n",
            "Salario Atual: R$ 1535.28\n",
            " \n",
            "Ano: 2011\n",
            "Salario Atual: R$ 1581.34\n",
            " \n",
            "Ano: 2012\n",
            "Salario Atual: R$ 1628.78\n",
            " \n",
            "Ano: 2013\n",
            "Salario Atual: R$ 1677.64\n",
            " \n",
            "Ano: 2014\n",
            "Salario Atual: R$ 1727.97\n",
            " \n",
            "Ano: 2015\n",
            "Salario Atual: R$ 1779.81\n",
            " \n",
            "Ano: 2016\n",
            "Salario Atual: R$ 1833.20\n",
            " \n",
            "Ano: 2017\n",
            "Salario Atual: R$ 1888.20\n",
            " \n",
            "Ano: 2018\n",
            "Salario Atual: R$ 1944.84\n",
            " \n",
            "Ano: 2019\n",
            "Salario Atual: R$ 2003.19\n",
            " \n",
            "Ano: 2020\n",
            "Salario Atual: R$ 2063.29\n",
            " \n",
            "Ano: 2021\n",
            "Salario Atual: R$ 2125.18\n",
            " \n",
            "Ano: 2022\n",
            "Salario Atual: R$ 2188.94\n"
          ]
        }
      ]
    },
    {
      "cell_type": "markdown",
      "source": [
        "39 - Faça um programa que leia dez conjuntos de dois valores, o primeiro representando o número do aluno e o segundo representando a sua altura em centímetros. Encontre o aluno mais alto e o mais baixo. Mostre o número do aluno mais alto e o número do aluno mais baixo, junto com suas alturas."
      ],
      "metadata": {
        "id": "0zAGVjhiR_u3"
      }
    },
    {
      "cell_type": "code",
      "source": [
        "quantidade_aluno = 0 \n",
        "altura_maior = 0\n",
        "altura_menor = 300\n",
        "aluno_maior = 0\n",
        "aluno_menor = 0\n",
        "\n",
        "for _ in range(1, 10+1):\n",
        "\n",
        "  \n",
        "  aluno = int(input('Número do aluno: '))\n",
        "  centimetros_altura = int(input('Altura em centimetros: '))\n",
        "  quantidade_aluno += 1\n",
        "\n",
        "  if centimetros_altura > altura_maior:\n",
        "    altura_maior = centimetros_altura\n",
        "    aluno_maior = aluno\n",
        "  if centimetros_altura < altura_menor:\n",
        "    altura_menor = centimetros_altura \n",
        "    aluno_menor = aluno\n",
        "\n",
        "print(f'''\n",
        "O maior aluno é: {aluno_maior} e sua altura é: {altura_maior}\n",
        "O menor aluno é: {aluno_menor} e sua altura é: {altura_menor}\n",
        "''')\n"
      ],
      "metadata": {
        "colab": {
          "base_uri": "https://localhost:8080/"
        },
        "id": "MexxWeJ4SB7c",
        "outputId": "28468288-4a8e-4bef-95ed-d79356c45941"
      },
      "execution_count": null,
      "outputs": [
        {
          "output_type": "stream",
          "name": "stdout",
          "text": [
            "Número do aluno: 1\n",
            "Altura em centimetros: 126\n",
            "Número do aluno: 2\n",
            "Altura em centimetros: 127\n",
            "Número do aluno: 3\n",
            "Altura em centimetros: 125\n",
            "Número do aluno: 4\n",
            "Altura em centimetros: 130\n",
            "Número do aluno: 5\n",
            "Altura em centimetros: 124\n",
            "Número do aluno: 6\n",
            "Altura em centimetros: 129\n",
            "Número do aluno: 7\n",
            "Altura em centimetros: 128\n",
            "Número do aluno: 8\n",
            "Altura em centimetros: 131\n",
            "Número do aluno: 9\n",
            "Altura em centimetros: 120\n",
            "Número do aluno: 10\n",
            "Altura em centimetros: 121\n",
            "\n",
            "O maior aluno é: 8 e sua altura é: 131\n",
            "O menor aluno é: 9 e sua altura é: 120\n",
            "\n"
          ]
        }
      ]
    },
    {
      "cell_type": "markdown",
      "source": [
        "40 - Foi feita uma estatística em cinco cidades brasileiras para coletar dados sobre acidentes de trânsito. Foram obtidos os seguintes dados:\n",
        "\n",
        "a) Código da cidade;\n",
        "\n",
        "b) Número de veículos de passeio (em 1999);\n",
        "\n",
        "c) Número de acidentes de trânsito com vítimas (em 1999). Deseja-se saber:\n",
        "\n",
        "d) Qual o maior e menor índice de acidentes de transito e a que cidade pertence;\n",
        "\n",
        "e) Qual a média de veículos nas cinco cidades juntas;\n",
        "\n",
        "f) Qual a média de acidentes de trânsito nas cidades com menos de 2.000 veículos de passeio."
      ],
      "metadata": {
        "id": "UOI8ThZYSWp5"
      }
    },
    {
      "cell_type": "code",
      "source": [
        "maior_acidentes = 0\n",
        "menor_acidentes = 100\n",
        "codigo_maior = 0\n",
        "codigo_menor = 0 \n",
        "veiculos_quantidade = []\n",
        "acidentes_2000 = []\n",
        "veiculos_2000 = 0\n",
        "\n",
        "for _ in range(1, 5+1):\n",
        "  codigo_cidade = int(input('Código da cidade: '))\n",
        "  numero_veiculos = int(input('Números de veículos de passeio: '))\n",
        "  numero_acidentes = int(input('Números de acidentes: '))\n",
        "\n",
        "  veiculos_quantidade.append(numero_veiculos)\n",
        "\n",
        "  if numero_acidentes > maior_acidentes:\n",
        "    maior_acidentes = numero_acidentes\n",
        "    codigo_maior = codigo_cidade   \n",
        "  if numero_acidentes < menor_acidentes:\n",
        "    menor_acidentes = numero_acidentes\n",
        "    codigo_menor = codigo_cidade\n",
        "\n",
        "  if numero_veiculos < 2000:\n",
        "    veiculos_2000 += 1\n",
        "    acidentes_2000.append(numero_acidentes)\n",
        "    \n",
        "media_2000 = sum(acidentes_2000) / veiculos_2000\n",
        "media_veiculos = sum(veiculos_quantidade) / 5\n",
        "\n",
        "print(f'Maior indice de acidentes: {maior_acidentes} pertence a cidade de código: {codigo_maior}')\n",
        "print(f'Menor indice de acidentes: {menor_acidentes} pertence a cidade de código: {codigo_menor}')\n",
        "print(f'A média da quantiade de veiculos das cidades é: {media_veiculos}')\n",
        "print(f'A média de acidentes em cidades com menos de 2000 veiculos é: {media_2000}')\n"
      ],
      "metadata": {
        "colab": {
          "base_uri": "https://localhost:8080/"
        },
        "id": "jqY4bGKSSyIG",
        "outputId": "7d416e0e-b1e8-4f05-b6c9-4f0d3aabf957"
      },
      "execution_count": null,
      "outputs": [
        {
          "output_type": "stream",
          "name": "stdout",
          "text": [
            "Código da cidade: 1\n",
            "Números de veículos de passeio: 5000\n",
            "Números de acidentes: 132\n",
            "Código da cidade: 2\n",
            "Números de veículos de passeio: 1053\n",
            "Números de acidentes: 124\n",
            "Código da cidade: 3\n",
            "Números de veículos de passeio: 3054\n",
            "Números de acidentes: 143\n",
            "Código da cidade: 4\n",
            "Números de veículos de passeio: 943\n",
            "Números de acidentes: 100\n",
            "Código da cidade: 5\n",
            "Números de veículos de passeio: 9542\n",
            "Números de acidentes: 204\n",
            "Maior indice de acidentes: 204 pertence a cidade de código: 5\n",
            "Menor indice de acidentes: 100 pertence a cidade de código: 0\n",
            "A média da quantiade de veiculos das cidades é: 3918.4\n",
            "A média de acidentes em cidades com menos de 2000 veiculos é: 112.0\n"
          ]
        }
      ]
    },
    {
      "cell_type": "markdown",
      "source": [
        "41 - Faça um programa que receba o valor de uma dívida e mostre uma tabela com os seguintes dados: valor da dívida, valor dos juros, quantidade de parcelas e valor da parcela.\n",
        "Os juros e a quantidade de parcelas seguem a tabela abaixo:\n",
        "\n",
        "\n",
        "```\n",
        "Quantidade de Parcelas  % de Juros sobre o valor inicial da dívida\n",
        "1       0\n",
        "3       10\n",
        "6       15\n",
        "9       20\n",
        "12      25\n",
        "```\n",
        "Exemplo de saída do programa:\n",
        "\n",
        "\n",
        "```\n",
        "Valor da Dívida Valor dos Juros Quantidade de Parcelas  Valor da Parcela\n",
        "R$ 1.000,00     0               1                       R$  1.000,00\n",
        "R$ 1.100,00     100             3                       R$    366,00\n",
        "R$ 1.150,00     150             6                       R$    191,67\n",
        "```\n",
        "\n",
        "\n",
        "\n"
      ],
      "metadata": {
        "id": "fa3Ijn6K1RhS"
      }
    },
    {
      "cell_type": "code",
      "source": [
        "valor_inicial_divida = float(input(\"Digite o valor inicial da divida: \"))\n",
        "print(\"\\n\" * 2)\n",
        "print(\"Valor da divida: \", end=\"  \")\n",
        "print(\"Valor do juros: \", end=\"  \")\n",
        "print(\"Quantidade de parcelas: \", end=\"  \")\n",
        "print(\"Valor da parcela: \")\n",
        "\n",
        "for x in range(0, 12+1, 3):\n",
        "  if x == 0:\n",
        "    x = 1\n",
        "\n",
        "  if x == 1:\n",
        "    juros = 0\n",
        "  elif x == 3:\n",
        "    juros = 1.10\n",
        "  elif x == 6:\n",
        "    juros = 1.15\n",
        "  elif x == 9:\n",
        "    juros = 1.20\n",
        "  elif x == 12:\n",
        "    juros = 1.25\n",
        "  \n",
        "  valor_juros_inicial = juros * valor_inicial_divida \n",
        "  valor_juros = valor_juros_inicial - valor_inicial_divida\n",
        "\n",
        "\n",
        "  if x == 1:\n",
        "    divida_juros = valor_inicial_divida\n",
        "    valor_parcela = divida_juros\n",
        "    valor_juros = 0\n",
        "  else:  \n",
        "    divida_juros = valor_inicial_divida * juros\n",
        "    valor_parcela = divida_juros / x\n",
        "\n",
        "  \n",
        "\n",
        "  print(f'R$ {divida_juros}', end=\"               \")\n",
        "  print(f'{valor_juros}', end=\"                 \")\n",
        "  print(f' {x}', end=\"                      \")\n",
        "  print(f'R$ {valor_parcela:.2f}')"
      ],
      "metadata": {
        "colab": {
          "base_uri": "https://localhost:8080/"
        },
        "id": "Sjhwj2UT1mOB",
        "outputId": "0ff5170f-8f88-45fb-8ae1-26cd176553a7"
      },
      "execution_count": null,
      "outputs": [
        {
          "output_type": "stream",
          "name": "stdout",
          "text": [
            "Digite o valor inicial da divida: 1000\n",
            "\n",
            "\n",
            "\n",
            "Valor da divida:   Valor do juros:   Quantidade de parcelas:   Valor da parcela: \n",
            "R$ 1000.0               0                  1                      R$ 1000.00\n",
            "R$ 1100.0               100.0                  3                      R$ 366.67\n",
            "R$ 1150.0               150.0                  6                      R$ 191.67\n",
            "R$ 1200.0               200.0                  9                      R$ 133.33\n",
            "R$ 1250.0               250.0                  12                      R$ 104.17\n"
          ]
        }
      ]
    },
    {
      "cell_type": "markdown",
      "source": [
        "42 - Faça um programa que leia uma quantidade indeterminada de números positivos e conte quantos deles estão nos seguintes intervalos: [0-25], [26-50], [51-75] e [76-100]. A entrada de dados deverá terminar quando for lido um número negativo.\n"
      ],
      "metadata": {
        "id": "5ogzXv0GxWdA"
      }
    },
    {
      "cell_type": "code",
      "source": [
        "lista_um = []\n",
        "lista_dois = []\n",
        "lista_tres = []\n",
        "lista_quatro = []\n",
        "\n",
        "while True:\n",
        "  numero = int(input('Digite um numero: '))\n",
        "  \n",
        "  if numero >= 0 and numero <= 25:\n",
        "    lista_um.append(numero)\n",
        "  elif numero > 26 and numero <= 50:\n",
        "    lista_dois.append(numero)\n",
        "  elif numero > 51 and numero <= 75:\n",
        "    lista_tres.append(numero)\n",
        "  elif numero > 76 and numero <= 100:\n",
        "    lista_quatro.append(numero)\n",
        "  elif numero < 0:\n",
        "    break\n",
        "\n",
        "print(f'''Nos respectivos numeros digitados estão nos seguintes intervalos:\n",
        "Entre 0 e 25: {len(lista_um)}\n",
        "Entre 26 e 50: {len(lista_dois)} \n",
        "Entre 51 e 75: {len(lista_tres)} \n",
        "Entre 76 e 100: {len(lista_quatro)}\n",
        "''')"
      ],
      "metadata": {
        "colab": {
          "base_uri": "https://localhost:8080/"
        },
        "id": "cXUpSgeFxZ_x",
        "outputId": "e7628117-e086-4f10-ef88-af5ef1e0e330"
      },
      "execution_count": null,
      "outputs": [
        {
          "output_type": "stream",
          "name": "stdout",
          "text": [
            "Digite um numero: 1\n",
            "Digite um numero: 2\n",
            "Digite um numero: 65\n",
            "Digite um numero: 94\n",
            "Digite um numero: 48\n",
            "Digite um numero: 4\n",
            "Digite um numero: 69\n",
            "Digite um numero: 35\n",
            "Digite um numero: 12\n",
            "Digite um numero: 74\n",
            "Digite um numero: 3\n",
            "Digite um numero: 0\n",
            "Digite um numero: -1\n",
            "Nos respectivos numeros digitados estão nos seguintes intervalos:\n",
            "Entre 0 e 25: 6\n",
            "Entre 26 e 50: 2 \n",
            "Entre 51 e 75: 3 \n",
            "Entre 76 e 100: 1\n",
            "\n"
          ]
        }
      ]
    },
    {
      "cell_type": "markdown",
      "source": [
        "43 - O cardápio de uma lanchonete é o seguinte:\n",
        "\n",
        "\n",
        "```\n",
        "Especificação   Código  Preço\n",
        "Cachorro Quente 100     R$ 1,20\n",
        "Bauru Simples   101     R$ 1,30\n",
        "Bauru com ovo   102     R$ 1,50\n",
        "Hambúrguer      103     R$ 1,20\n",
        "Cheeseburguer   104     R$ 1,30\n",
        "Refrigerante    105     R$ 1,00\n",
        "```\n",
        "Faça um programa que leia o código dos itens pedidos e as quantidades desejadas. Calcule e mostre o valor a ser pago por item (preço * quantidade) e o total geral do pedido. Considere que o cliente deve informar quando o pedido deve ser encerrado.\n"
      ],
      "metadata": {
        "id": "caZPgSwL4cly"
      }
    },
    {
      "cell_type": "code",
      "source": [
        "quantidade_dois = []\n",
        "preco_dois = []\n",
        "\n",
        "while True:\n",
        "  codigo = int(input('Digite o código do pedido: '))\n",
        "  quantidade = int(input('Digite a quantidade: '))\n",
        "\n",
        "  if codigo == 100:\n",
        "    preco = 1.20\n",
        "    quantidade_dois.append(quantidade)\n",
        "    novo_preco = preco * quantidade\n",
        "    preco_dois.append(novo_preco)\n",
        "  elif codigo == 101:\n",
        "    preco = 1.30\n",
        "    quantidade_dois.append(quantidade)\n",
        "    novo_preco = preco * quantidade\n",
        "    preco_dois.append(novo_preco)\n",
        "  elif codigo == 102:\n",
        "    preco = 1.50\n",
        "    quantidade_dois.append(quantidade)\n",
        "    novo_preco = preco * quantidade\n",
        "    preco_dois.append(novo_preco)\n",
        "  elif codigo == 103:\n",
        "    preco = 1.20\n",
        "    quantidade_dois.append(quantidade)\n",
        "    novo_preco = preco * quantidade\n",
        "    preco_dois.append(novo_preco)\n",
        "  elif codigo == 104:\n",
        "    preco = 1.30\n",
        "    quantidade_dois.append(quantidade)\n",
        "    novo_preco = preco * quantidade\n",
        "    preco_dois.append(novo_preco)\n",
        "  elif codigo == 105:\n",
        "    preco = 1.00\n",
        "    quantidade_dois.append(quantidade)\n",
        "    novo_preco = preco * quantidade\n",
        "    preco_dois.append(novo_preco)\n",
        "  elif codigo > 105:\n",
        "    break\n",
        "  \n",
        "  total_preco = sum(preco_dois)\n",
        "\n",
        "print(f'Preço total: R$ {total_preco:.2f}')"
      ],
      "metadata": {
        "colab": {
          "base_uri": "https://localhost:8080/"
        },
        "id": "mgmTg0as5u6j",
        "outputId": "cb8d461a-ea01-498e-a122-97a979816400"
      },
      "execution_count": null,
      "outputs": [
        {
          "output_type": "stream",
          "name": "stdout",
          "text": [
            "Digite o código do pedido: 100\n",
            "Digite a quantidade: 2\n",
            "Digite o código do pedido: 104\n",
            "Digite a quantidade: 5\n",
            "Digite o código do pedido: 105\n",
            "Digite a quantidade: 2\n",
            "Digite o código do pedido: 109\n",
            "Digite a quantidade: 109\n",
            "Preço total: R$ 10.90\n"
          ]
        }
      ]
    },
    {
      "cell_type": "markdown",
      "source": [
        "44 - Em uma eleição presidencial existem quatro candidatos. Os votos são informados por meio de código. Os códigos utilizados são:\n",
        "\n",
        "\n",
        "```\n",
        "1 , 2, 3, 4  - Votos para os respectivos candidatos \n",
        "(você deve montar a tabela ex: 1 - Jose/ 2- João/etc)\n",
        "5 - Voto Nulo\n",
        "6 - Voto em Branco\n",
        "```\n",
        "Faça um programa que calcule e mostre:\n",
        "\n",
        "O total de votos para cada candidato;\n",
        "\n",
        "O total de votos nulos;\n",
        "\n",
        "O total de votos em branco;\n",
        "\n",
        "A percentagem de votos nulos sobre o total de votos;\n",
        "\n",
        "A percentagem de votos em branco sobre o total de votos. Para finalizar o conjunto de votos tem-se o valor zero.\n"
      ],
      "metadata": {
        "id": "2QFImh1ICzTd"
      }
    },
    {
      "cell_type": "code",
      "source": [
        "candidato_um = 0\n",
        "candidato_dois = 0\n",
        "candidato_tres = 0\n",
        "candidato_quatro = 0\n",
        "votos_nulos = 0\n",
        "votos_branco = 0\n",
        "\n",
        "while True:\n",
        "  codigo_votos = int(input('Digite o código do candidato: '))\n",
        "\n",
        "\n",
        "  if codigo_votos == 1:\n",
        "    candidato_um += 1\n",
        "  elif codigo_votos == 2:\n",
        "    candidato_dois += 1\n",
        "  elif codigo_votos == 3:\n",
        "    candidato_tres += 1\n",
        "  elif codigo_votos == 4:\n",
        "    candidato_quatro += 1\n",
        "  elif codigo_votos == 5:\n",
        "    votos_nulos += 1\n",
        "  elif codigo_votos == 6:\n",
        "    votos_branco += 1\n",
        "  elif codigo_votos == 0:\n",
        "    break\n",
        "\n",
        "  soma_votos = candidato_um + candidato_dois + candidato_tres + candidato_quatro + votos_nulos + votos_branco\n",
        "  porcentagem_nulos = votos_nulos * 100 / soma_votos\n",
        "  porcentagem_brancos = votos_branco * 100 / soma_votos\n",
        "\n",
        "print(\"\\n\" * 5)\n",
        "print(f'^~~~~~^ TOTAL DE VOTOS ^~~~~^')\n",
        "print(f'Candidato 1: {candidato_um}')\n",
        "print(f'Candidato 2: {candidato_dois}')\n",
        "print(f'Candidato 3: {candidato_tres}')\n",
        "print(f'Candidato 4: {candidato_quatro}')\n",
        "print(f'Votos Nulos: {votos_nulos}')\n",
        "print(f'Votos Brancos: {votos_branco}')\n",
        "print(f'Porcentagem NULOS: {porcentagem_nulos:.1f}%')\n",
        "print(f'Procentagem BRANCOS: {porcentagem_brancos:.1f}% ')"
      ],
      "metadata": {
        "colab": {
          "base_uri": "https://localhost:8080/"
        },
        "id": "PNHq70I8C-SZ",
        "outputId": "48d8b715-b87c-4a68-d6ab-69653a79e539"
      },
      "execution_count": null,
      "outputs": [
        {
          "output_type": "stream",
          "name": "stdout",
          "text": [
            "Digite o código do candidato: 1\n",
            "Digite o código do candidato: 1\n",
            "Digite o código do candidato: 1\n",
            "Digite o código do candidato: 1\n",
            "Digite o código do candidato: 2\n",
            "Digite o código do candidato: 2\n",
            "Digite o código do candidato: 3\n",
            "Digite o código do candidato: 3\n",
            "Digite o código do candidato: 3\n",
            "Digite o código do candidato: 3\n",
            "Digite o código do candidato: 3\n",
            "Digite o código do candidato: 4\n",
            "Digite o código do candidato: 5\n",
            "Digite o código do candidato: 5\n",
            "Digite o código do candidato: 5\n",
            "Digite o código do candidato: 5\n",
            "Digite o código do candidato: 5\n",
            "Digite o código do candidato: 6\n",
            "Digite o código do candidato: 6\n",
            "Digite o código do candidato: 6\n",
            "Digite o código do candidato: 7\n",
            "\n",
            "\n",
            "\n",
            "\n",
            "\n",
            "\n",
            "^~~~~~^ TOTAL DE VOTOS ^~~~~^\n",
            "Candidato 1: 4\n",
            "Candidato 2: 2\n",
            "Candidato 3: 5\n",
            "Candidato 4: 1\n",
            "Votos Nulos: 5\n",
            "Votos Brancos: 3\n",
            "Porcentagem NULOS: 25.0%\n",
            "Procentagem BRANCOS: 15.0% \n"
          ]
        }
      ]
    },
    {
      "cell_type": "markdown",
      "source": [
        "45 - Desenvolver um programa para verificar a nota do aluno em uma prova com 10 questões, o programa deve perguntar ao aluno a resposta de cada questão e ao final comparar com o gabarito da prova e assim calcular o total de acertos e a nota (atribuir 1 ponto por resposta certa). Após cada aluno utilizar o sistema deve ser feita uma pergunta se outro aluno vai utilizar o sistema. Após todos os alunos terem respondido informar:\n",
        "\n",
        "a) Maior e Menor Acerto;\n",
        "\n",
        "b) Total de Alunos que utilizaram o sistema;\n",
        "\n",
        "c) A Média das Notas da Turma.\n",
        "\n",
        "\n",
        "\n",
        "```\n",
        "Gabarito da Prova:\n",
        "\n",
        "01 - A\n",
        "02 - B\n",
        "03 - C\n",
        "04 - D\n",
        "05 - E\n",
        "06 - E\n",
        "07 - D\n",
        "08 - C\n",
        "09 - B\n",
        "10 - A\n",
        "```\n",
        "Após concluir isto você poderia incrementar o programa permitindo que o professor digite o gabarito da prova antes dos alunos usarem o programa.\n"
      ],
      "metadata": {
        "id": "im8LFXlkanrR"
      }
    },
    {
      "cell_type": "code",
      "source": [
        "#gabarito = []\n",
        "gabarito2 = []\n",
        "alunos = 0 \n",
        "nota_usuario = []\n",
        "\n",
        "for y in range(1, 10+1):\n",
        "  gabarito = input('Digite o gabarito: ').upper()\n",
        "  gabarito2 += (gabarito)\n",
        "\n",
        "prosseguir = ' '\n",
        "while prosseguir not in 'NÃO':\n",
        "  acertos = 0\n",
        "  print('# BOA PROVA #')\n",
        "  for y in range(1, 10+1):\n",
        "    resposta = input(f'{y}) Digite a resposta: ').upper()\n",
        "\n",
        "    if y == 1:\n",
        "      if resposta == gabarito2[0]:\n",
        "        acertos += 1\n",
        "    elif y == 2:\n",
        "      if resposta == gabarito2[1]:\n",
        "        acertos += 1\n",
        "    elif y == 3:\n",
        "      if resposta == gabarito2[2]:\n",
        "        acertos += 1\n",
        "    elif y == 4:\n",
        "      if resposta == gabarito2[3]:\n",
        "        acertos += 1\n",
        "    elif y == 5:\n",
        "      if resposta == gabarito2[4]:\n",
        "        acertos += 1\n",
        "    elif y == 6:\n",
        "      if resposta == gabarito2[5]:\n",
        "        acertos += 1\n",
        "    elif y == 7:\n",
        "      if resposta == gabarito2[6]:\n",
        "        acertos += 1\n",
        "    elif y == 8:\n",
        "      if resposta == gabarito2[7]:\n",
        "        acertos += 1\n",
        "    elif y == 9:\n",
        "      if resposta == gabarito2[8]:\n",
        "        acertos += 1\n",
        "    elif y == 10:\n",
        "      if resposta == gabarito2[9]:\n",
        "        acertos += 1\n",
        "      print('##'*30)\n",
        "      \n",
        "      nota_usuario.append(acertos)\n",
        "      print(f'Seus Acertos: {acertos}')\n",
        "      prosseguir = input('Outro aluno ira usar o sistema SIM ou NÃO?: ').upper()\n",
        "      alunos += 1\n",
        "        \n",
        "      \n",
        "      media_das_notas = sum(nota_usuario) / alunos\n",
        "\n",
        "\n",
        "print(f'Maior acerto: {max(nota_usuario)}')\n",
        "print(f'Menor acerto: {min((nota_usuario))}')\n",
        "print(f'Total de alunos: {alunos}')\n",
        "print(f'Média das notas: {media_das_notas}')"
      ],
      "metadata": {
        "colab": {
          "base_uri": "https://localhost:8080/"
        },
        "id": "TlHW3icl6-7b",
        "outputId": "69621967-e66a-44a0-bbaf-72529fd94c03"
      },
      "execution_count": null,
      "outputs": [
        {
          "output_type": "stream",
          "name": "stdout",
          "text": [
            "Digite o gabarito: a\n",
            "Digite o gabarito: b\n",
            "Digite o gabarito: c\n",
            "Digite o gabarito: d\n",
            "Digite o gabarito: e\n",
            "Digite o gabarito: a\n",
            "Digite o gabarito: b\n",
            "Digite o gabarito: c\n",
            "Digite o gabarito: d\n",
            "Digite o gabarito: e\n",
            "# BOA PROVA #\n",
            "1) Digite a resposta: a\n",
            "2) Digite a resposta: b\n",
            "3) Digite a resposta: c\n",
            "4) Digite a resposta: d\n",
            "5) Digite a resposta: e\n",
            "6) Digite a resposta: a\n",
            "7) Digite a resposta: b\n",
            "8) Digite a resposta: c\n",
            "9) Digite a resposta: d\n",
            "10) Digite a resposta: e\n",
            "############################################################\n",
            "Seus Acertos: 10\n",
            "Outro aluno ira usar o sistema SIM ou NÃO?: sim\n",
            "# BOA PROVA #\n",
            "1) Digite a resposta: a\n",
            "2) Digite a resposta: b\n",
            "3) Digite a resposta: c\n",
            "4) Digite a resposta: d\n",
            "5) Digite a resposta: e\n",
            "6) Digite a resposta: e\n",
            "7) Digite a resposta: a\n",
            "8) Digite a resposta: b\n",
            "9) Digite a resposta: c\n",
            "10) Digite a resposta: d\n",
            "############################################################\n",
            "Seus Acertos: 5\n",
            "Outro aluno ira usar o sistema SIM ou NÃO?: nao\n",
            "# BOA PROVA #\n",
            "1) Digite a resposta: a\n",
            "2) Digite a resposta: b\n",
            "3) Digite a resposta: c\n",
            "4) Digite a resposta: d\n",
            "5) Digite a resposta: e\n",
            "6) Digite a resposta: a\n",
            "7) Digite a resposta: c\n",
            "8) Digite a resposta: d\n",
            "9) Digite a resposta: e\n",
            "10) Digite a resposta: b\n",
            "############################################################\n",
            "Seus Acertos: 6\n",
            "Outro aluno ira usar o sistema SIM ou NÃO?: não\n",
            "Maior acerto: 10\n",
            "Menor acerto: 5\n",
            "Total de alunos: 3\n",
            "Média das notas: 7.0\n"
          ]
        }
      ]
    },
    {
      "cell_type": "markdown",
      "source": [
        "46 - Em uma competição de salto em distância cada atleta tem direito a cinco saltos. No final da série de saltos de cada atleta, o melhor e o pior resultados são eliminados. O seu resultado fica sendo a média dos três valores restantes. Você deve fazer um programa que receba o nome e as cinco distâncias alcançadas pelo atleta em seus saltos e depois informe a média dos saltos conforme a descrição acima informada (retirar o melhor e o pior salto e depois calcular a média). Faça uso de uma lista para armazenar os saltos. Os saltos são informados na ordem da execução, portanto não são ordenados. O programa deve ser encerrado quando não for informado o nome do atleta. A saída do programa deve ser conforme o exemplo abaixo: \n",
        "\n",
        "\n",
        "```\n",
        "Atleta: Rodrigo Curvêllo\n",
        "\n",
        "Primeiro Salto: 6.5 m\n",
        "Segundo Salto: 6.1 m\n",
        "Terceiro Salto: 6.2 m\n",
        "Quarto Salto: 5.4 m\n",
        "Quinto Salto: 5.3 m\n",
        "\n",
        "Melhor salto:  6.5 m\n",
        "Pior salto: 5.3 m\n",
        "Média dos demais saltos: 5.9 m\n",
        "\n",
        "Resultado final:\n",
        "Rodrigo Curvêllo: 5.9 m\n",
        "```\n",
        "\n"
      ],
      "metadata": {
        "id": "5qSPJPP5e7vo"
      }
    },
    {
      "cell_type": "code",
      "source": [
        "while True:\n",
        "  lista_saltos = []\n",
        "  print(\"\\n\" * 2)\n",
        "  atleta = input('Atleta: ')\n",
        "  if atleta == '':\n",
        "    break\n",
        "  print(\"\\n\" * 2)\n",
        "  for t in range(1, 5+1):\n",
        "    if t == 1:\n",
        "      t = 'Primeiro'\n",
        "    elif t == 2:\n",
        "      t = 'Segundo'\n",
        "    elif t == 3:\n",
        "      t = 'Terceiro'\n",
        "    elif t == 4:\n",
        "      t = 'Quarto'\n",
        "    elif t == 5:\n",
        "      t = 'Quinto'\n",
        "    salto = float(input(f'{t} Salto: '))\n",
        "    lista_saltos.append(salto)\n",
        "    \n",
        "    maior_salto = max(lista_saltos)\n",
        "    menor_salto = min(lista_saltos)\n",
        "\n",
        "    #Subtraindo o Maior e Menor Valor\n",
        "  \n",
        "    soma_salto = sum(lista_saltos)\n",
        "    subtraindo_maior = soma_salto - maior_salto\n",
        "    subtraindo_menor = subtraindo_maior - menor_salto\n",
        "\n",
        "    media_saltos = subtraindo_menor / 3\n",
        "\n",
        "  print(\"\\n\" * 2)  \n",
        "  print(f'Melhor salto: {maior_salto} m')\n",
        "  print(f'Pior salto: {menor_salto} m')\n",
        "  print(f'Média dos demais saltos: {media_saltos:.2f} m')\n",
        "  print(\"\\n\" * 2)\n",
        "  print(f'''Resultado final:\n",
        "{atleta}: {media_saltos:.2f}\n",
        "  ''')"
      ],
      "metadata": {
        "colab": {
          "base_uri": "https://localhost:8080/"
        },
        "id": "OFWysc5MfGQ5",
        "outputId": "da231d4a-77b6-448e-ba78-1b2d133cf8e4"
      },
      "execution_count": null,
      "outputs": [
        {
          "name": "stdout",
          "output_type": "stream",
          "text": [
            "\n",
            "\n",
            "\n",
            "Atleta: Guilherme\n",
            "\n",
            "\n",
            "\n",
            "Primeiro Salto: 6.7\n",
            "Segundo Salto: 6.9\n",
            "Terceiro Salto: 6.4\n",
            "Quarto Salto: 5.4\n",
            "Quinto Salto: 5.1\n",
            "\n",
            "\n",
            "\n",
            "Melhor salto: 6.9 m\n",
            "Pior salto: 5.1 m\n",
            "Média dos demais saltos: 6.17 m\n",
            "\n",
            "\n",
            "\n",
            "Resultado final:\n",
            "Guilherme: 6.17\n",
            "  \n",
            "\n",
            "\n",
            "\n",
            "Atleta: \n"
          ]
        }
      ]
    },
    {
      "cell_type": "markdown",
      "source": [
        "47 - Em uma competição de ginástica, cada atleta recebe votos de sete jurados. A melhor e a pior nota são eliminadas. A sua nota fica sendo a média dos votos restantes. Você deve fazer um programa que receba o nome do ginasta e as notas dos sete jurados alcançadas pelo atleta em sua apresentação e depois informe a sua média, conforme a descrição acima informada (retirar o melhor e o pior salto e depois calcular a média com as notas restantes). As notas não são informados ordenadas. Um exemplo de saída do programa deve ser conforme o exemplo abaixo:\n",
        "\n",
        "\n",
        "```\n",
        "Atleta: Aparecido Parente\n",
        "Nota: 9.9\n",
        "Nota: 7.5\n",
        "Nota: 9.5\n",
        "Nota: 8.5\n",
        "Nota: 9.0\n",
        "Nota: 8.5\n",
        "Nota: 9.7\n",
        "\n",
        "Resultado final:\n",
        "Atleta: Aparecido Parente\n",
        "Melhor nota: 9.9\n",
        "Pior nota: 7.5\n",
        "Média: 9,04\n",
        "```\n",
        "\n"
      ],
      "metadata": {
        "id": "BrgQgpdzvl7Y"
      }
    },
    {
      "cell_type": "code",
      "source": [
        "while True:\n",
        "  lista_notas = []\n",
        "  print(\"\\n\" * 2)\n",
        "  atleta_t = input('Atleta: ')\n",
        "  if atleta_t == '':\n",
        "    break\n",
        "  for s in range(1, 7+1):\n",
        "    nota = float(input('Nota: '))\n",
        "    lista_notas.append(nota)\n",
        "\n",
        "    maior_nota = max(lista_notas)\n",
        "    menor_nota = min(lista_notas)\n",
        "    soma_max_min = maior_nota + menor_nota\n",
        "    \n",
        "    soma_notas = sum(lista_notas) - soma_max_min\n",
        "    \n",
        "    media_notas = soma_notas / 5\n",
        "\n",
        "  print(\"\\n\" * 2)\n",
        "  print('Resultado final:')\n",
        "  print(f'Atleta: {atleta_t}')\n",
        "  print(f'Melhor nota: {maior_nota}')\n",
        "  print(f'Pior nota: {menor_nota}')\n",
        "  print(f'Média: {media_notas:.2f}')\n",
        "\n",
        "    \n",
        "\n"
      ],
      "metadata": {
        "colab": {
          "base_uri": "https://localhost:8080/"
        },
        "id": "C3lhanJL1i-c",
        "outputId": "6ebb22ea-4ccc-47f9-ae7b-1269448b0cdf"
      },
      "execution_count": null,
      "outputs": [
        {
          "name": "stdout",
          "output_type": "stream",
          "text": [
            "Atleta: Guilherme Souza\n",
            "Nota: 6.7\n",
            "Nota: 5.7\n",
            "Nota: 5.3\n",
            "Nota: 5.6\n",
            "Nota: 6.7\n",
            "Nota: 8.3\n",
            "Nota: 4.6\n",
            "\n",
            "\n",
            "\n",
            "Resultado final:\n",
            "Atleta: Guilherme Souza\n",
            "Melhor nota: 8.3\n",
            "Pior nota: 4.6\n",
            "Média: 6.00\n",
            "Atleta: \n"
          ]
        }
      ]
    },
    {
      "cell_type": "markdown",
      "source": [
        "48 - Faça um programa que peça um numero inteiro positivo e em seguida mostre este numero invertido.\n",
        "Exemplo:\n",
        "\n",
        "\n",
        "```\n",
        " 12376489\n",
        "  => 98467321\n",
        "```\n",
        "\n"
      ],
      "metadata": {
        "id": "zbX1T9zZJ49y"
      }
    },
    {
      "cell_type": "code",
      "source": [
        "while True:\n",
        "  try:\n",
        "    numero_inteiro_positivo = int(input('Numero: '))\n",
        "  except:\n",
        "    print('Deve ser fornecido um valor inteiro.')\n",
        "  else: \n",
        "    if numero_inteiro_positivo < 0: \n",
        "      print('Deve ser fornecido um valor inteiro e POSITIVO')\n",
        "    else:\n",
        "      numero_inteiro_positivo = str(numero_inteiro_positivo)\n",
        "      print(numero_inteiro_positivo[::-1])\n",
        "      break\n"
      ],
      "metadata": {
        "colab": {
          "base_uri": "https://localhost:8080/"
        },
        "id": "O4vJ3maLKAkK",
        "outputId": "b99fbcc0-9d03-466a-a2e7-710adefb47a3"
      },
      "execution_count": null,
      "outputs": [
        {
          "output_type": "stream",
          "name": "stdout",
          "text": [
            "Numero: 5.5\n",
            "Deve ser fornecido um valor inteiro.\n",
            "Numero: -5\n",
            "Deve ser fornecido um valor inteiro e POSITIVO\n",
            "Numero: 764\n",
            "467\n"
          ]
        }
      ]
    },
    {
      "cell_type": "markdown",
      "source": [
        "49 - Faça um programa que mostre os n termos da Série a seguir:\n",
        "\n",
        "\n",
        "```\n",
        "  S = 1/1 + 2/3 + 3/5 + 4/7 + 5/9 + ... + n/m. \n",
        "```\n",
        "\n"
      ],
      "metadata": {
        "id": "GjQsWDWRi-5y"
      }
    },
    {
      "cell_type": "code",
      "source": [
        "n1 = 1\n",
        "n2 = 1\n",
        "n1_lista = []\n",
        "n2_lista = []\n",
        "print(\"S = \", end = \"\")\n",
        "while n1 <= 10 -1:\n",
        "    print(n1, \"/\", n2, \" + \", end=\"\")\n",
        "    n1_lista.append(n1)\n",
        "    n2_lista.append(n2)\n",
        "    n1 += 1\n",
        "    n2 += 2\n",
        "\n",
        "print(n1, \"/\", n2, \" = \", sum(n1_lista), \"/\", sum(n2_lista))"
      ],
      "metadata": {
        "colab": {
          "base_uri": "https://localhost:8080/"
        },
        "id": "S910PRZ_l2km",
        "outputId": "62e590cf-ba7e-440e-b882-5e186023a0e9"
      },
      "execution_count": null,
      "outputs": [
        {
          "output_type": "stream",
          "name": "stdout",
          "text": [
            "S = 1 / 1  + 2 / 3  + 3 / 5  + 4 / 7  + 5 / 9  + 6 / 11  + 7 / 13  + 8 / 15  + 9 / 17  + 10 / 19  =  45 / 81\n"
          ]
        }
      ]
    },
    {
      "cell_type": "markdown",
      "source": [
        "50 - Sendo H= 1 + 1/2 + 1/3 + 1/4 + ... + 1/N, Faça um programa que calcule o valor de H com N termos.\n"
      ],
      "metadata": {
        "id": "LI8MsmU2rxYl"
      }
    },
    {
      "cell_type": "code",
      "source": [
        "h = 1\n",
        "n = 2\n",
        "h_lista = []\n",
        "n_lista = []\n",
        "print(\"H = 1 +\", end = \"\")\n",
        "while n <= 10 -1:\n",
        "    print(\" \",h, \"/\", n, \" + \", end=\"\")\n",
        "    h_lista.append(h)\n",
        "    n_lista.append(n)\n",
        "    n += 1\n",
        "\n",
        "print(h, \"/\", n, \" => \", sum(h_lista), \"/\", sum(n_lista), \" => \", round(sum(h_lista) / sum(n_lista)), 2)"
      ],
      "metadata": {
        "colab": {
          "base_uri": "https://localhost:8080/"
        },
        "id": "KhOVb2LTr0lO",
        "outputId": "f3d83e5e-f0db-4369-9278-68fa67cbdd89"
      },
      "execution_count": null,
      "outputs": [
        {
          "output_type": "stream",
          "name": "stdout",
          "text": [
            "H = 1 +  1 / 2  +   1 / 3  +   1 / 4  +   1 / 5  +   1 / 6  +   1 / 7  +   1 / 8  +   1 / 9  + 1 / 10  =>  8 / 44  =>  0 2\n"
          ]
        }
      ]
    }
  ]
}